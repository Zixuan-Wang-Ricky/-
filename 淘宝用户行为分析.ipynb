{
 "cells": [
  {
   "cell_type": "code",
   "execution_count": 2,
   "metadata": {},
   "outputs": [],
   "source": [
    "import pandas as pd\n",
    "import numpy as np\n",
    "import matplotlib.pyplot as plt\n",
    "import seaborn as sns\n",
    "import re\n",
    "import os\n",
    "os.chdir(\"E:\\大学\\实习\\简历\\项目\\淘宝用户分析\")"
   ]
  },
  {
   "cell_type": "code",
   "execution_count": 3,
   "metadata": {},
   "outputs": [],
   "source": [
    "data_user = pd.read_csv(r\"tianchi_mobile_recommend_train_user.csv\")"
   ]
  },
  {
   "cell_type": "code",
   "execution_count": null,
   "metadata": {},
   "outputs": [],
   "source": [
    "'''\n",
    "user_id：用户身份，脱敏\n",
    "\n",
    "item_id：商品ID，脱敏\n",
    "\n",
    "behavior_type：用户行为类型（包含点击、收藏、加购物车、支付四种行为，分别用数字1、2、3、4表示）\n",
    "\n",
    "user_geohash：地理位置\n",
    "\n",
    "item_category：品类ID（商品所属的品类）\n",
    "\n",
    "time：用户行为发生的时间\n",
    "'''"
   ]
  },
  {
   "cell_type": "code",
   "execution_count": null,
   "metadata": {},
   "outputs": [],
   "source": [
    "'''\n",
    "用户分析的指标，一共四个大类：\n",
    "用户购买行为研究（访问率分析、消费次数和金额分析、流失和复购分析）\n",
    "用户价值分析（RFM）\n",
    "用户生命周期分析（本项目只提供了一个月的数据，无法得出准确的用户生命周期分析，因此这一部分暂不讨论）\n",
    "用户数据分析即用户画像（本项目因缺乏相关数据，因此这一部分暂不讨论）\n",
    "'''"
   ]
  },
  {
   "cell_type": "markdown",
   "metadata": {},
   "source": [
    "# 1. 数据清洗"
   ]
  },
  {
   "cell_type": "markdown",
   "metadata": {},
   "source": [
    "### 1.1 缺失值处理"
   ]
  },
  {
   "cell_type": "code",
   "execution_count": 4,
   "metadata": {},
   "outputs": [
    {
     "name": "stdout",
     "output_type": "stream",
     "text": [
      "user_geohash    8334824\n",
      "dtype: int64\n"
     ]
    }
   ],
   "source": [
    "#将各列缺失值进行计数，按照降序排列\n",
    "missingTotal = data_user.isnull().sum()\n",
    "missingExist = missingTotal[missingTotal>0]\n",
    "missingExist = missingExist.sort_values(ascending=False)\n",
    "print(missingExist)"
   ]
  },
  {
   "cell_type": "code",
   "execution_count": 5,
   "metadata": {},
   "outputs": [],
   "source": [
    "#仅地理位置信息存在缺失，其他数据是完整的。\n",
    "#且因为地理位置是转码过的，因此先不对缺失值进行处理。"
   ]
  },
  {
   "cell_type": "markdown",
   "metadata": {},
   "source": [
    "### 1.2 一致化处理"
   ]
  },
  {
   "cell_type": "code",
   "execution_count": 6,
   "metadata": {},
   "outputs": [
    {
     "data": {
      "text/html": [
       "<div>\n",
       "<style scoped>\n",
       "    .dataframe tbody tr th:only-of-type {\n",
       "        vertical-align: middle;\n",
       "    }\n",
       "\n",
       "    .dataframe tbody tr th {\n",
       "        vertical-align: top;\n",
       "    }\n",
       "\n",
       "    .dataframe thead th {\n",
       "        text-align: right;\n",
       "    }\n",
       "</style>\n",
       "<table border=\"1\" class=\"dataframe\">\n",
       "  <thead>\n",
       "    <tr style=\"text-align: right;\">\n",
       "      <th></th>\n",
       "      <th>user_id</th>\n",
       "      <th>item_id</th>\n",
       "      <th>behavior_type</th>\n",
       "      <th>user_geohash</th>\n",
       "      <th>item_category</th>\n",
       "      <th>time</th>\n",
       "    </tr>\n",
       "  </thead>\n",
       "  <tbody>\n",
       "    <tr>\n",
       "      <th>0</th>\n",
       "      <td>98047837</td>\n",
       "      <td>232431562</td>\n",
       "      <td>1</td>\n",
       "      <td>NaN</td>\n",
       "      <td>4245</td>\n",
       "      <td>2014-12-06 02</td>\n",
       "    </tr>\n",
       "    <tr>\n",
       "      <th>1</th>\n",
       "      <td>97726136</td>\n",
       "      <td>383583590</td>\n",
       "      <td>1</td>\n",
       "      <td>NaN</td>\n",
       "      <td>5894</td>\n",
       "      <td>2014-12-09 20</td>\n",
       "    </tr>\n",
       "    <tr>\n",
       "      <th>2</th>\n",
       "      <td>98607707</td>\n",
       "      <td>64749712</td>\n",
       "      <td>1</td>\n",
       "      <td>NaN</td>\n",
       "      <td>2883</td>\n",
       "      <td>2014-12-18 11</td>\n",
       "    </tr>\n",
       "    <tr>\n",
       "      <th>3</th>\n",
       "      <td>98662432</td>\n",
       "      <td>320593836</td>\n",
       "      <td>1</td>\n",
       "      <td>96nn52n</td>\n",
       "      <td>6562</td>\n",
       "      <td>2014-12-06 10</td>\n",
       "    </tr>\n",
       "    <tr>\n",
       "      <th>4</th>\n",
       "      <td>98145908</td>\n",
       "      <td>290208520</td>\n",
       "      <td>1</td>\n",
       "      <td>NaN</td>\n",
       "      <td>13926</td>\n",
       "      <td>2014-12-16 21</td>\n",
       "    </tr>\n",
       "  </tbody>\n",
       "</table>\n",
       "</div>"
      ],
      "text/plain": [
       "    user_id    item_id  behavior_type user_geohash  item_category  \\\n",
       "0  98047837  232431562              1          NaN           4245   \n",
       "1  97726136  383583590              1          NaN           5894   \n",
       "2  98607707   64749712              1          NaN           2883   \n",
       "3  98662432  320593836              1      96nn52n           6562   \n",
       "4  98145908  290208520              1          NaN          13926   \n",
       "\n",
       "            time  \n",
       "0  2014-12-06 02  \n",
       "1  2014-12-09 20  \n",
       "2  2014-12-18 11  \n",
       "3  2014-12-06 10  \n",
       "4  2014-12-16 21  "
      ]
     },
     "execution_count": 6,
     "metadata": {},
     "output_type": "execute_result"
    }
   ],
   "source": [
    "data_user.head()"
   ]
  },
  {
   "cell_type": "code",
   "execution_count": 7,
   "metadata": {},
   "outputs": [],
   "source": [
    "#将时间列进行进一步处理，转化为日期列和小时列"
   ]
  },
  {
   "cell_type": "code",
   "execution_count": 8,
   "metadata": {},
   "outputs": [
    {
     "data": {
      "text/html": [
       "<div>\n",
       "<style scoped>\n",
       "    .dataframe tbody tr th:only-of-type {\n",
       "        vertical-align: middle;\n",
       "    }\n",
       "\n",
       "    .dataframe tbody tr th {\n",
       "        vertical-align: top;\n",
       "    }\n",
       "\n",
       "    .dataframe thead th {\n",
       "        text-align: right;\n",
       "    }\n",
       "</style>\n",
       "<table border=\"1\" class=\"dataframe\">\n",
       "  <thead>\n",
       "    <tr style=\"text-align: right;\">\n",
       "      <th></th>\n",
       "      <th>user_id</th>\n",
       "      <th>item_id</th>\n",
       "      <th>behavior_type</th>\n",
       "      <th>user_geohash</th>\n",
       "      <th>item_category</th>\n",
       "      <th>time</th>\n",
       "      <th>date</th>\n",
       "      <th>hour</th>\n",
       "    </tr>\n",
       "  </thead>\n",
       "  <tbody>\n",
       "    <tr>\n",
       "      <th>0</th>\n",
       "      <td>98047837</td>\n",
       "      <td>232431562</td>\n",
       "      <td>1</td>\n",
       "      <td>NaN</td>\n",
       "      <td>4245</td>\n",
       "      <td>2014-12-06 02</td>\n",
       "      <td>2014-12-06</td>\n",
       "      <td>02</td>\n",
       "    </tr>\n",
       "    <tr>\n",
       "      <th>1</th>\n",
       "      <td>97726136</td>\n",
       "      <td>383583590</td>\n",
       "      <td>1</td>\n",
       "      <td>NaN</td>\n",
       "      <td>5894</td>\n",
       "      <td>2014-12-09 20</td>\n",
       "      <td>2014-12-09</td>\n",
       "      <td>20</td>\n",
       "    </tr>\n",
       "    <tr>\n",
       "      <th>2</th>\n",
       "      <td>98607707</td>\n",
       "      <td>64749712</td>\n",
       "      <td>1</td>\n",
       "      <td>NaN</td>\n",
       "      <td>2883</td>\n",
       "      <td>2014-12-18 11</td>\n",
       "      <td>2014-12-18</td>\n",
       "      <td>11</td>\n",
       "    </tr>\n",
       "    <tr>\n",
       "      <th>3</th>\n",
       "      <td>98662432</td>\n",
       "      <td>320593836</td>\n",
       "      <td>1</td>\n",
       "      <td>96nn52n</td>\n",
       "      <td>6562</td>\n",
       "      <td>2014-12-06 10</td>\n",
       "      <td>2014-12-06</td>\n",
       "      <td>10</td>\n",
       "    </tr>\n",
       "    <tr>\n",
       "      <th>4</th>\n",
       "      <td>98145908</td>\n",
       "      <td>290208520</td>\n",
       "      <td>1</td>\n",
       "      <td>NaN</td>\n",
       "      <td>13926</td>\n",
       "      <td>2014-12-16 21</td>\n",
       "      <td>2014-12-16</td>\n",
       "      <td>21</td>\n",
       "    </tr>\n",
       "  </tbody>\n",
       "</table>\n",
       "</div>"
      ],
      "text/plain": [
       "    user_id    item_id  behavior_type user_geohash  item_category  \\\n",
       "0  98047837  232431562              1          NaN           4245   \n",
       "1  97726136  383583590              1          NaN           5894   \n",
       "2  98607707   64749712              1          NaN           2883   \n",
       "3  98662432  320593836              1      96nn52n           6562   \n",
       "4  98145908  290208520              1          NaN          13926   \n",
       "\n",
       "            time        date hour  \n",
       "0  2014-12-06 02  2014-12-06   02  \n",
       "1  2014-12-09 20  2014-12-09   20  \n",
       "2  2014-12-18 11  2014-12-18   11  \n",
       "3  2014-12-06 10  2014-12-06   10  \n",
       "4  2014-12-16 21  2014-12-16   21  "
      ]
     },
     "execution_count": 8,
     "metadata": {},
     "output_type": "execute_result"
    }
   ],
   "source": [
    "data_user['date']=data_user['time'].map(lambda x: x.split(' ')[0])\n",
    "data_user['hour']=data_user['time'].map(lambda x: x.split(' ')[1])\n",
    "data_user.head()"
   ]
  },
  {
   "cell_type": "code",
   "execution_count": 9,
   "metadata": {},
   "outputs": [],
   "source": [
    "#将数据转换成相应的类型，time和date应该是日期类型数据，hour应该是字符串类型数据"
   ]
  },
  {
   "cell_type": "code",
   "execution_count": 10,
   "metadata": {},
   "outputs": [],
   "source": [
    "data_user['time'] = pd.to_datetime(data_user['time'], format='%Y-%m-%d %H')\n",
    "data_user['date'] = pd.to_datetime(data_user['date'], format='%Y-%m-%d')\n",
    "data_user['hour'] = data_user['hour'].astype('int64')"
   ]
  },
  {
   "cell_type": "code",
   "execution_count": 11,
   "metadata": {},
   "outputs": [
    {
     "data": {
      "text/plain": [
       "user_id                   int64\n",
       "item_id                   int64\n",
       "behavior_type             int64\n",
       "user_geohash             object\n",
       "item_category             int64\n",
       "time             datetime64[ns]\n",
       "date             datetime64[ns]\n",
       "hour                      int64\n",
       "dtype: object"
      ]
     },
     "execution_count": 11,
     "metadata": {},
     "output_type": "execute_result"
    }
   ],
   "source": [
    "data_user.dtypes"
   ]
  },
  {
   "cell_type": "markdown",
   "metadata": {},
   "source": [
    "### 1.3 异常值处理"
   ]
  },
  {
   "cell_type": "code",
   "execution_count": 12,
   "metadata": {},
   "outputs": [
    {
     "data": {
      "text/html": [
       "<div>\n",
       "<style scoped>\n",
       "    .dataframe tbody tr th:only-of-type {\n",
       "        vertical-align: middle;\n",
       "    }\n",
       "\n",
       "    .dataframe tbody tr th {\n",
       "        vertical-align: top;\n",
       "    }\n",
       "\n",
       "    .dataframe thead th {\n",
       "        text-align: right;\n",
       "    }\n",
       "</style>\n",
       "<table border=\"1\" class=\"dataframe\">\n",
       "  <thead>\n",
       "    <tr style=\"text-align: right;\">\n",
       "      <th></th>\n",
       "      <th>user_id</th>\n",
       "      <th>item_id</th>\n",
       "      <th>behavior_type</th>\n",
       "      <th>user_geohash</th>\n",
       "      <th>item_category</th>\n",
       "      <th>time</th>\n",
       "      <th>date</th>\n",
       "      <th>hour</th>\n",
       "    </tr>\n",
       "  </thead>\n",
       "  <tbody>\n",
       "    <tr>\n",
       "      <th>count</th>\n",
       "      <td>1.225691e+07</td>\n",
       "      <td>1.225691e+07</td>\n",
       "      <td>1.225691e+07</td>\n",
       "      <td>3922082</td>\n",
       "      <td>1.225691e+07</td>\n",
       "      <td>12256906</td>\n",
       "      <td>12256906</td>\n",
       "      <td>1.225691e+07</td>\n",
       "    </tr>\n",
       "    <tr>\n",
       "      <th>unique</th>\n",
       "      <td>NaN</td>\n",
       "      <td>NaN</td>\n",
       "      <td>NaN</td>\n",
       "      <td>575458</td>\n",
       "      <td>NaN</td>\n",
       "      <td>744</td>\n",
       "      <td>31</td>\n",
       "      <td>NaN</td>\n",
       "    </tr>\n",
       "    <tr>\n",
       "      <th>top</th>\n",
       "      <td>NaN</td>\n",
       "      <td>NaN</td>\n",
       "      <td>NaN</td>\n",
       "      <td>94ek6ke</td>\n",
       "      <td>NaN</td>\n",
       "      <td>2014-12-11 22:00:00</td>\n",
       "      <td>2014-12-12 00:00:00</td>\n",
       "      <td>NaN</td>\n",
       "    </tr>\n",
       "    <tr>\n",
       "      <th>freq</th>\n",
       "      <td>NaN</td>\n",
       "      <td>NaN</td>\n",
       "      <td>NaN</td>\n",
       "      <td>1052</td>\n",
       "      <td>NaN</td>\n",
       "      <td>54797</td>\n",
       "      <td>691712</td>\n",
       "      <td>NaN</td>\n",
       "    </tr>\n",
       "    <tr>\n",
       "      <th>first</th>\n",
       "      <td>NaN</td>\n",
       "      <td>NaN</td>\n",
       "      <td>NaN</td>\n",
       "      <td>NaN</td>\n",
       "      <td>NaN</td>\n",
       "      <td>2014-11-18 00:00:00</td>\n",
       "      <td>2014-11-18 00:00:00</td>\n",
       "      <td>NaN</td>\n",
       "    </tr>\n",
       "    <tr>\n",
       "      <th>last</th>\n",
       "      <td>NaN</td>\n",
       "      <td>NaN</td>\n",
       "      <td>NaN</td>\n",
       "      <td>NaN</td>\n",
       "      <td>NaN</td>\n",
       "      <td>2014-12-18 23:00:00</td>\n",
       "      <td>2014-12-18 00:00:00</td>\n",
       "      <td>NaN</td>\n",
       "    </tr>\n",
       "    <tr>\n",
       "      <th>mean</th>\n",
       "      <td>7.170732e+07</td>\n",
       "      <td>2.023084e+08</td>\n",
       "      <td>1.105271e+00</td>\n",
       "      <td>NaN</td>\n",
       "      <td>6.846162e+03</td>\n",
       "      <td>NaN</td>\n",
       "      <td>NaN</td>\n",
       "      <td>1.481799e+01</td>\n",
       "    </tr>\n",
       "    <tr>\n",
       "      <th>std</th>\n",
       "      <td>4.122920e+07</td>\n",
       "      <td>1.167397e+08</td>\n",
       "      <td>4.572662e-01</td>\n",
       "      <td>NaN</td>\n",
       "      <td>3.809922e+03</td>\n",
       "      <td>NaN</td>\n",
       "      <td>NaN</td>\n",
       "      <td>6.474778e+00</td>\n",
       "    </tr>\n",
       "    <tr>\n",
       "      <th>min</th>\n",
       "      <td>4.913000e+03</td>\n",
       "      <td>6.400000e+01</td>\n",
       "      <td>1.000000e+00</td>\n",
       "      <td>NaN</td>\n",
       "      <td>2.000000e+00</td>\n",
       "      <td>NaN</td>\n",
       "      <td>NaN</td>\n",
       "      <td>0.000000e+00</td>\n",
       "    </tr>\n",
       "    <tr>\n",
       "      <th>25%</th>\n",
       "      <td>3.584965e+07</td>\n",
       "      <td>1.014130e+08</td>\n",
       "      <td>1.000000e+00</td>\n",
       "      <td>NaN</td>\n",
       "      <td>3.721000e+03</td>\n",
       "      <td>NaN</td>\n",
       "      <td>NaN</td>\n",
       "      <td>1.000000e+01</td>\n",
       "    </tr>\n",
       "    <tr>\n",
       "      <th>50%</th>\n",
       "      <td>7.292804e+07</td>\n",
       "      <td>2.021359e+08</td>\n",
       "      <td>1.000000e+00</td>\n",
       "      <td>NaN</td>\n",
       "      <td>6.209000e+03</td>\n",
       "      <td>NaN</td>\n",
       "      <td>NaN</td>\n",
       "      <td>1.600000e+01</td>\n",
       "    </tr>\n",
       "    <tr>\n",
       "      <th>75%</th>\n",
       "      <td>1.073774e+08</td>\n",
       "      <td>3.035405e+08</td>\n",
       "      <td>1.000000e+00</td>\n",
       "      <td>NaN</td>\n",
       "      <td>1.029000e+04</td>\n",
       "      <td>NaN</td>\n",
       "      <td>NaN</td>\n",
       "      <td>2.000000e+01</td>\n",
       "    </tr>\n",
       "    <tr>\n",
       "      <th>max</th>\n",
       "      <td>1.424559e+08</td>\n",
       "      <td>4.045625e+08</td>\n",
       "      <td>4.000000e+00</td>\n",
       "      <td>NaN</td>\n",
       "      <td>1.408000e+04</td>\n",
       "      <td>NaN</td>\n",
       "      <td>NaN</td>\n",
       "      <td>2.300000e+01</td>\n",
       "    </tr>\n",
       "  </tbody>\n",
       "</table>\n",
       "</div>"
      ],
      "text/plain": [
       "             user_id       item_id  behavior_type user_geohash  item_category  \\\n",
       "count   1.225691e+07  1.225691e+07   1.225691e+07      3922082   1.225691e+07   \n",
       "unique           NaN           NaN            NaN       575458            NaN   \n",
       "top              NaN           NaN            NaN      94ek6ke            NaN   \n",
       "freq             NaN           NaN            NaN         1052            NaN   \n",
       "first            NaN           NaN            NaN          NaN            NaN   \n",
       "last             NaN           NaN            NaN          NaN            NaN   \n",
       "mean    7.170732e+07  2.023084e+08   1.105271e+00          NaN   6.846162e+03   \n",
       "std     4.122920e+07  1.167397e+08   4.572662e-01          NaN   3.809922e+03   \n",
       "min     4.913000e+03  6.400000e+01   1.000000e+00          NaN   2.000000e+00   \n",
       "25%     3.584965e+07  1.014130e+08   1.000000e+00          NaN   3.721000e+03   \n",
       "50%     7.292804e+07  2.021359e+08   1.000000e+00          NaN   6.209000e+03   \n",
       "75%     1.073774e+08  3.035405e+08   1.000000e+00          NaN   1.029000e+04   \n",
       "max     1.424559e+08  4.045625e+08   4.000000e+00          NaN   1.408000e+04   \n",
       "\n",
       "                       time                 date          hour  \n",
       "count              12256906             12256906  1.225691e+07  \n",
       "unique                  744                   31           NaN  \n",
       "top     2014-12-11 22:00:00  2014-12-12 00:00:00           NaN  \n",
       "freq                  54797               691712           NaN  \n",
       "first   2014-11-18 00:00:00  2014-11-18 00:00:00           NaN  \n",
       "last    2014-12-18 23:00:00  2014-12-18 00:00:00           NaN  \n",
       "mean                    NaN                  NaN  1.481799e+01  \n",
       "std                     NaN                  NaN  6.474778e+00  \n",
       "min                     NaN                  NaN  0.000000e+00  \n",
       "25%                     NaN                  NaN  1.000000e+01  \n",
       "50%                     NaN                  NaN  1.600000e+01  \n",
       "75%                     NaN                  NaN  2.000000e+01  \n",
       "max                     NaN                  NaN  2.300000e+01  "
      ]
     },
     "execution_count": 12,
     "metadata": {},
     "output_type": "execute_result"
    }
   ],
   "source": [
    "data_user.describe(include='all')"
   ]
  },
  {
   "cell_type": "code",
   "execution_count": 13,
   "metadata": {},
   "outputs": [],
   "source": [
    "#主要为离散型+有序型数据，未发现异常值的出现"
   ]
  },
  {
   "cell_type": "markdown",
   "metadata": {},
   "source": [
    "# 2.用户分析"
   ]
  },
  {
   "cell_type": "markdown",
   "metadata": {},
   "source": [
    "### 2.1 用户购买行为分析"
   ]
  },
  {
   "cell_type": "markdown",
   "metadata": {},
   "source": [
    "#### 2.1.1用户购买行为综述"
   ]
  },
  {
   "cell_type": "code",
   "execution_count": 14,
   "metadata": {},
   "outputs": [],
   "source": [
    "min_date, max_date = min(data_user['date']), max(data_user['date'])"
   ]
  },
  {
   "cell_type": "code",
   "execution_count": 15,
   "metadata": {},
   "outputs": [
    {
     "data": {
      "text/plain": [
       "(Timestamp('2014-11-18 00:00:00'), Timestamp('2014-12-18 00:00:00'))"
      ]
     },
     "execution_count": 15,
     "metadata": {},
     "output_type": "execute_result"
    }
   ],
   "source": [
    "min_date, max_date"
   ]
  },
  {
   "cell_type": "code",
   "execution_count": 16,
   "metadata": {},
   "outputs": [
    {
     "data": {
      "text/plain": [
       "(10000, 12256906, 2876947, 8916)"
      ]
     },
     "execution_count": 16,
     "metadata": {},
     "output_type": "execute_result"
    }
   ],
   "source": [
    "user_num = data_user['user_id'].unique()\n",
    "item_num = data_user['item_id'].unique()\n",
    "item_category_num = data_user['item_category'].unique()\n",
    "len(user_num), len(data_user['behavior_type']), len(item_num), len(item_category_num)"
   ]
  },
  {
   "cell_type": "code",
   "execution_count": null,
   "metadata": {},
   "outputs": [],
   "source": [
    "\"\"\"\n",
    "2014年11月18日至2014年12月18日的用户行为数据\n",
    "#10000名用户，总共发生约1226万次\n",
    "#涉及商品数量为287万件物品，分为8916类\n",
    "\n",
    "\"\"\""
   ]
  },
  {
   "cell_type": "markdown",
   "metadata": {},
   "source": [
    "#### 2.1.2 用户访问率分析"
   ]
  },
  {
   "cell_type": "code",
   "execution_count": 17,
   "metadata": {},
   "outputs": [],
   "source": [
    "# 1) 日访问量分析"
   ]
  },
  {
   "cell_type": "code",
   "execution_count": null,
   "metadata": {},
   "outputs": [],
   "source": [
    "\"\"\"\n",
    "PV(访问量)：即Page View,具体是指网站的页面浏览量或者点击量。\n",
    "\n",
    "UC(独立访客)：即Unique Visitor,指访问网站的一台电脑客户端为一个访客。\n",
    "\n",
    "\"\"\""
   ]
  },
  {
   "cell_type": "code",
   "execution_count": 18,
   "metadata": {},
   "outputs": [],
   "source": [
    "pv_daily = data_user.groupby('date')[\"user_id\"].count().reset_index().rename(columns={'user_id':'pv'})\n",
    "uv_daily = data_user.groupby('date')[\"user_id\"].apply(lambda x: x.drop_duplicates().count()).reset_index().rename(columns={'user_id':'uv'})\n",
    "#groupby函数处理后 index会变成date，因此需要reset_index\n",
    "#pv_daily记录每天用户操作次数，uv_daily记录每天不同的上线用户数量"
   ]
  },
  {
   "cell_type": "code",
   "execution_count": 19,
   "metadata": {},
   "outputs": [
    {
     "data": {
      "text/plain": [
       "Text(0.5,1,'uv_daily')"
      ]
     },
     "execution_count": 19,
     "metadata": {},
     "output_type": "execute_result"
    },
    {
     "data": {
      "image/png": "[encoded data removed]",
      "text/plain": [
       "<Figure size 432x288 with 2 Axes>"
      ]
     },
     "metadata": {},
     "output_type": "display_data"
    }
   ],
   "source": [
    "fig,axes=plt.subplots(2,1,sharex=True)\n",
    "pv_daily.plot(x='date',y='pv',ax=axes[0])\n",
    "uv_daily.plot(x='date',y='uv',ax=axes[1])\n",
    "axes[0].set_title('pv_daily')\n",
    "axes[1].set_title('uv_daily')\n",
    "#可视化pv_daily和uv_daily"
   ]
  },
  {
   "cell_type": "code",
   "execution_count": null,
   "metadata": {},
   "outputs": [],
   "source": [
    "\"\"\"\n",
    "\n",
    "\n",
    "给定数据集总人数大约10000人，\n",
    "pv访问量集中在40万次，uv访问量集中在6500\n",
    "并且可以发现，uv和pv两个访问量数值差距比较大，\n",
    "\n",
    "\n",
    "在双十二期间，pv和uv访问量达到峰值（分别为70万和7500左右），\n",
    "通过uv值可以分析出双十二期间淘宝用户的\n",
    "日活跃增长幅度为(7500-6500)/6500 = 15%\n",
    "\n",
    "\"\"\""
   ]
  },
  {
   "cell_type": "code",
   "execution_count": 20,
   "metadata": {},
   "outputs": [],
   "source": [
    "# 2) 小时访问量分析"
   ]
  },
  {
   "cell_type": "code",
   "execution_count": null,
   "metadata": {},
   "outputs": [],
   "source": [
    "\"\"\"\n",
    "pv_hour记录每小时用户操作次数\n",
    "\n",
    "uv_hour记录每小时不同的上线用户数量\n",
    "\"\"\""
   ]
  },
  {
   "cell_type": "code",
   "execution_count": 21,
   "metadata": {},
   "outputs": [],
   "source": [
    "pv_hour = data_user.groupby('hour')['user_id'].count().reset_index().rename(columns={'user_id':'pv'})\n",
    "uv_hour = data_user.groupby('hour')['user_id'].apply(lambda x: x.drop_duplicates().count()).reset_index().rename(columns={'user_id':'uv'})"
   ]
  },
  {
   "cell_type": "code",
   "execution_count": 22,
   "metadata": {},
   "outputs": [
    {
     "data": {
      "text/plain": [
       "Text(0.5,1,'uv_hour')"
      ]
     },
     "execution_count": 22,
     "metadata": {},
     "output_type": "execute_result"
    },
    {
     "data": {
      "image/png": "[encoded data removed]",
      "text/plain": [
       "<Figure size 432x288 with 2 Axes>"
      ]
     },
     "metadata": {},
     "output_type": "display_data"
    }
   ],
   "source": [
    "fig,axes=plt.subplots(2,1,sharex=True)\n",
    "pv_hour.plot(x='hour',y='pv',ax=axes[0])\n",
    "uv_hour.plot(x='hour',y='uv',ax=axes[1])\n",
    "axes[0].set_title('pv_hour')\n",
    "axes[0].set_title('uv_hour')"
   ]
  },
  {
   "cell_type": "code",
   "execution_count": null,
   "metadata": {},
   "outputs": [],
   "source": [
    "\"\"\"\n",
    "pv和uv在凌晨（0点至5点）呈现下降趋势，并于清晨（5点至10点）开始上升，\n",
    "正午达到平稳并持续到18点左右，访问量于夜晚继续提升并且在21点左右达到峰值。\n",
    "\n",
    "18点左右的pv波动比较剧烈，相比之下uv并无十分剧烈的波动\n",
    "因此18点左右，晚间时段是淘宝app的活跃时间段\n",
    "\"\"\""
   ]
  },
  {
   "cell_type": "code",
   "execution_count": 23,
   "metadata": {},
   "outputs": [],
   "source": [
    "# 3) 不同行为类型用户pv分析"
   ]
  },
  {
   "cell_type": "code",
   "execution_count": null,
   "metadata": {},
   "outputs": [],
   "source": [
    "\"\"\"\n",
    "pv_detail记录不同类型用户的pv访问量情况\n",
    "\n",
    "\"\"\""
   ]
  },
  {
   "cell_type": "code",
   "execution_count": 24,
   "metadata": {},
   "outputs": [],
   "source": [
    "pv_detail = data_user.groupby(['behavior_type',\"hour\"])[\"user_id\"].count().reset_index().rename(columns={'user_id':'total_pv'})"
   ]
  },
  {
   "cell_type": "code",
   "execution_count": 25,
   "metadata": {},
   "outputs": [
    {
     "data": {
      "text/plain": [
       "Text(0.5,1,'pv_different_behavior_type_except1')"
      ]
     },
     "execution_count": 25,
     "metadata": {},
     "output_type": "execute_result"
    },
    {
     "data": {
      "image/png": "[encoded data removed]",
      "text/plain": [
       "<Figure size 432x288 with 2 Axes>"
      ]
     },
     "metadata": {},
     "output_type": "display_data"
    }
   ],
   "source": [
    "fig,axes=plt.subplots(2,1,sharex=True)\n",
    "sns.pointplot(x='hour',y='total_pv',hue='behavior_type',data=pv_detail,ax=axes[0])\n",
    "sns.pointplot(x='hour',y='total_pv',hue='behavior_type',data=pv_detail[pv_detail.behavior_type!=1],ax=axes[1])\n",
    "axes[0].set_title('pv_different_behavior_type')\n",
    "axes[1].set_title('pv_different_behavior_type_except1')"
   ]
  },
  {
   "cell_type": "code",
   "execution_count": 26,
   "metadata": {},
   "outputs": [],
   "source": [
    "#pointplot()函数\n",
    "#点图表示通过散点图点的位置对数值变量的中心趋势的估计。\n",
    "#点图用于集中在一个或多个分类变量的不同级别之间的比较，有时比条形图更有用。\n",
    "#x,y常用来指定x,y轴的分类名称，\n",
    "#hue常用来指定第二次分类的数据类别(用颜色区分)"
   ]
  },
  {
   "cell_type": "code",
   "execution_count": null,
   "metadata": {},
   "outputs": [],
   "source": [
    "\"\"\"\n",
    "点击、收藏、加购物车、支付四种行为，分别用数字1、2、3、4表示\n",
    "\n",
    "点击这一用户行为较其他三类行为pv访问量较高，符合预期\n",
    "\n",
    "四种行为的波动情况基本一致，最高峰都集中在夜晚\n",
    "\n",
    "加入购物车的pv访问量 高于收藏的pv访问量\n",
    "\"\"\""
   ]
  },
  {
   "cell_type": "markdown",
   "metadata": {},
   "source": [
    "#### 2.1.3 用户消费行为分析 "
   ]
  },
  {
   "cell_type": "code",
   "execution_count": 27,
   "metadata": {},
   "outputs": [],
   "source": [
    "# 1) 用户购买次数情况分析"
   ]
  },
  {
   "cell_type": "code",
   "execution_count": null,
   "metadata": {},
   "outputs": [],
   "source": [
    "\"\"\"\n",
    "data_user_buy表示每个用户的购买的次数\n",
    "\"\"\""
   ]
  },
  {
   "cell_type": "code",
   "execution_count": 28,
   "metadata": {},
   "outputs": [],
   "source": [
    "data_user_buy = data_user[data_user['behavior_type']==4].groupby('user_id')['behavior_type'].count().reset_index().rename(columns={'behavior_type':'total_buy'})"
   ]
  },
  {
   "cell_type": "code",
   "execution_count": 29,
   "metadata": {},
   "outputs": [
    {
     "name": "stderr",
     "output_type": "stream",
     "text": [
      "C:\\ProgramData\\Anaconda3\\lib\\site-packages\\matplotlib\\axes\\_axes.py:6462: UserWarning: The 'normed' kwarg is deprecated, and has been replaced by the 'density' kwarg.\n",
      "  warnings.warn(\"The 'normed' kwarg is deprecated, and has been \"\n"
     ]
    },
    {
     "data": {
      "text/plain": [
       "Text(0.5,1,'daily_user_buy')"
      ]
     },
     "execution_count": 29,
     "metadata": {},
     "output_type": "execute_result"
    },
    {
     "data": {
      "image/png": "[encoded data removed]",
      "text/plain": [
       "<Figure size 432x288 with 1 Axes>"
      ]
     },
     "metadata": {},
     "output_type": "display_data"
    }
   ],
   "source": [
    "sns.distplot(data_user_buy.total_buy,kde=False)\n",
    "plt.title('daily_user_buy')"
   ]
  },
  {
   "cell_type": "code",
   "execution_count": null,
   "metadata": {},
   "outputs": [],
   "source": [
    "\"\"\"\n",
    "seaborn.distplot() 直方图，质量估计图，核密度估计图\n",
    "\n",
    "hist=True:表示要绘制直方图(默认情况为True)，若为False，则不绘制\n",
    "\n",
    "kde=True:表示要绘制核密度估计图(默认情况为True),若为False,则绘制\n",
    "\"\"\""
   ]
  },
  {
   "cell_type": "code",
   "execution_count": 30,
   "metadata": {},
   "outputs": [],
   "source": [
    "#因存在购买次数过高的用户，无法从可视化中获取有效信息，需要进行异常值处理\n",
    "#采用箱型图：IQR(差值) = U(上四分位数) - L(下四分位数)来识别异常值"
   ]
  },
  {
   "cell_type": "code",
   "execution_count": 31,
   "metadata": {},
   "outputs": [],
   "source": [
    "iqr = data_user_buy.total_buy.quantile(0.75) - data_user_buy.total_buy.quantile(0.25)\n",
    "q_abnormal_U = data_user_buy.total_buy.quantile(0.75) + 1.5 * iqr"
   ]
  },
  {
   "cell_type": "code",
   "execution_count": 32,
   "metadata": {},
   "outputs": [
    {
     "name": "stderr",
     "output_type": "stream",
     "text": [
      "C:\\ProgramData\\Anaconda3\\lib\\site-packages\\matplotlib\\axes\\_axes.py:6462: UserWarning: The 'normed' kwarg is deprecated, and has been replaced by the 'density' kwarg.\n",
      "  warnings.warn(\"The 'normed' kwarg is deprecated, and has been \"\n"
     ]
    },
    {
     "data": {
      "text/plain": [
       "Text(0.5,1,'daily_user_buy_normal')"
      ]
     },
     "execution_count": 32,
     "metadata": {},
     "output_type": "execute_result"
    },
    {
     "data": {
      "image/png": "[encoded data removed]",
      "text/plain": [
       "<Figure size 432x288 with 1 Axes>"
      ]
     },
     "metadata": {},
     "output_type": "display_data"
    }
   ],
   "source": [
    "sns.distplot(data_user_buy[data_user_buy.total_buy < q_abnormal_U].reset_index()['total_buy'],kde=False)\n",
    "plt.title('daily_user_buy_normal')"
   ]
  },
  {
   "cell_type": "code",
   "execution_count": 33,
   "metadata": {},
   "outputs": [
    {
     "data": {
      "text/plain": [
       "count    8886.000000\n",
       "mean       13.527459\n",
       "std        19.698786\n",
       "min         1.000000\n",
       "25%         4.000000\n",
       "50%         8.000000\n",
       "75%        17.000000\n",
       "max       809.000000\n",
       "Name: total_buy, dtype: float64"
      ]
     },
     "execution_count": 33,
     "metadata": {},
     "output_type": "execute_result"
    }
   ],
   "source": [
    "data_user_buy.total_buy.describe()"
   ]
  },
  {
   "cell_type": "code",
   "execution_count": null,
   "metadata": {},
   "outputs": [],
   "source": [
    "\"\"\"\n",
    "结合describe函数可得，淘宝用户消费次数大部分在17次以内\n",
    "\n",
    "淘宝用户的数量整体上呈现递减的趋势\n",
    "\"\"\""
   ]
  },
  {
   "cell_type": "code",
   "execution_count": 34,
   "metadata": {},
   "outputs": [],
   "source": [
    "# 2) 用户付费额度分析"
   ]
  },
  {
   "cell_type": "code",
   "execution_count": 35,
   "metadata": {},
   "outputs": [],
   "source": [
    "#日人均消费次数"
   ]
  },
  {
   "cell_type": "code",
   "execution_count": null,
   "metadata": {},
   "outputs": [],
   "source": [
    "\"\"\"\n",
    "ARPPU（average revenue per paying user）是指从每位付费用户身上获得的收入，它反映的是每个付费用户的平均付费额度。\n",
    "ARPPU=总收入/活跃付费用户数量\n",
    "因为本数据集中没有消费金额，因此在计算过程中用消费次数代替消费金额\n",
    "人均消费次数=消费总次数/消费人数\n",
    "\n",
    "dail_ARRPU表示日人均消费次数 \n",
    "\"\"\""
   ]
  },
  {
   "cell_type": "code",
   "execution_count": 36,
   "metadata": {},
   "outputs": [],
   "source": [
    "data_use_buy1=data_user[data_user.behavior_type==4].groupby(['date','user_id'])['behavior_type'].count().reset_index().rename(columns={'behavior_type':'total'})\n",
    "daily_ARRPU=data_use_buy1.groupby('date').apply(lambda x:x.total.sum()/x.total.count()).reset_index().rename(columns={0:'average'})"
   ]
  },
  {
   "cell_type": "code",
   "execution_count": 37,
   "metadata": {},
   "outputs": [
    {
     "data": {
      "text/plain": [
       "[<matplotlib.lines.Line2D at 0x2200fd4be80>]"
      ]
     },
     "execution_count": 37,
     "metadata": {},
     "output_type": "execute_result"
    },
    {
     "data": {
      "image/png": "[encoded data removed]",
      "text/plain": [
       "<Figure size 432x288 with 1 Axes>"
      ]
     },
     "metadata": {},
     "output_type": "display_data"
    }
   ],
   "source": [
    "plt.plot(daily_ARRPU.date,daily_ARRPU.average)"
   ]
  },
  {
   "cell_type": "code",
   "execution_count": null,
   "metadata": {},
   "outputs": [],
   "source": [
    "\"\"\"\n",
    "整体来看，消费者平均消费次数在2.25到2.5之间波动\n",
    "\n",
    "在双十二期间平均消费次数达到最高值，接近4\n",
    "\"\"\""
   ]
  },
  {
   "cell_type": "code",
   "execution_count": 38,
   "metadata": {},
   "outputs": [],
   "source": [
    "#日平均每用户收入"
   ]
  },
  {
   "cell_type": "code",
   "execution_count": null,
   "metadata": {},
   "outputs": [],
   "source": [
    "\"\"\"\n",
    "ARPU(Average Revenue Per User)：平均每用户收入，\n",
    "ARPU = 总收入/活跃用户数量\n",
    "\n",
    "它可以衡量产品的盈利能力和发展活力。\n",
    "\n",
    "活跃用户数平均消费次数=消费总次数/活跃用户人数(每天有操作行为的为活跃)\n",
    "\n",
    "daily_ARPU表示活跃用户平均消费次数\n",
    "\"\"\""
   ]
  },
  {
   "cell_type": "code",
   "execution_count": 39,
   "metadata": {},
   "outputs": [],
   "source": [
    "data_user['operation']=1\n",
    "data_use_buy2=data_user.groupby(['date','user_id','behavior_type'])['operation'].count().reset_index().rename(columns={'operation':'total'})\n",
    "daily_ARPU=data_use_buy2.groupby('date').apply(lambda x:x[x.behavior_type==4].total.sum()/len(x.user_id.unique())).reset_index().rename(columns={0:'average'})"
   ]
  },
  {
   "cell_type": "code",
   "execution_count": 40,
   "metadata": {},
   "outputs": [
    {
     "data": {
      "text/plain": [
       "Text(0.5,1,'daily_ARPU')"
      ]
     },
     "execution_count": 40,
     "metadata": {},
     "output_type": "execute_result"
    },
    {
     "data": {
      "image/png": "[encoded data removed]",
      "text/plain": [
       "<Figure size 432x288 with 1 Axes>"
      ]
     },
     "metadata": {},
     "output_type": "display_data"
    }
   ],
   "source": [
    "plt.plot(daily_ARPU.date,daily_ARPU.average)\n",
    "plt.title('daily_ARPU')"
   ]
  },
  {
   "cell_type": "code",
   "execution_count": null,
   "metadata": {},
   "outputs": [],
   "source": [
    "\"\"\"\n",
    "整体来看，活跃用户平均消费次数在0.6左右波动\n",
    "\n",
    "在双十二期间活跃用户平均消费次数达到最高值，接近2\n",
    "\"\"\""
   ]
  },
  {
   "cell_type": "code",
   "execution_count": 41,
   "metadata": {},
   "outputs": [],
   "source": [
    "#付费率"
   ]
  },
  {
   "cell_type": "code",
   "execution_count": null,
   "metadata": {},
   "outputs": [],
   "source": [
    "\"\"\"\n",
    "付费率=消费人数/活跃用户人数\n",
    "\n",
    "daily_afford_rate表示付费率\n",
    "\"\"\""
   ]
  },
  {
   "cell_type": "code",
   "execution_count": 42,
   "metadata": {},
   "outputs": [],
   "source": [
    "daily_afford_rate=data_use_buy2.groupby('date').apply(lambda x:x[x.behavior_type==4].total.count()/len(x.user_id.unique())).reset_index().rename(columns={0:'average'})"
   ]
  },
  {
   "cell_type": "code",
   "execution_count": 43,
   "metadata": {},
   "outputs": [
    {
     "data": {
      "text/plain": [
       "Text(0.5,1,'daily_afford_rate')"
      ]
     },
     "execution_count": 43,
     "metadata": {},
     "output_type": "execute_result"
    },
    {
     "data": {
      "image/png": "[encoded data removed]",
      "text/plain": [
       "<Figure size 432x288 with 1 Axes>"
      ]
     },
     "metadata": {},
     "output_type": "display_data"
    }
   ],
   "source": [
    "plt.plot(daily_afford_rate.date,daily_afford_rate.average)\n",
    "plt.title('daily_afford_rate')"
   ]
  },
  {
   "cell_type": "code",
   "execution_count": null,
   "metadata": {},
   "outputs": [],
   "source": [
    "\"\"\"\n",
    "整体来看，每日活跃人群中，具有消费行为的在20%至25%之间\n",
    "\n",
    "在双十二期间消费人数占比到最高值，在50%左右\n",
    "\"\"\""
   ]
  },
  {
   "cell_type": "markdown",
   "metadata": {},
   "source": [
    "#### 2.1.4 复购和流失情况分析"
   ]
  },
  {
   "cell_type": "code",
   "execution_count": 44,
   "metadata": {},
   "outputs": [],
   "source": [
    "#复购情况分析"
   ]
  },
  {
   "cell_type": "code",
   "execution_count": null,
   "metadata": {},
   "outputs": [],
   "source": [
    "\"\"\"\n",
    "复购情况，即两天以上有购买行为，一天多次购买算一次\n",
    "\n",
    "复购率=有复购行为的用户数/有购买行为的用户总数\n",
    "\n",
    "date_rebuy表示用户购买行为的发生的天数\n",
    "rebuy_rate表示复购率\n",
    "\"\"\""
   ]
  },
  {
   "cell_type": "code",
   "execution_count": 45,
   "metadata": {},
   "outputs": [
    {
     "data": {
      "text/plain": [
       "0.8717"
      ]
     },
     "execution_count": 45,
     "metadata": {},
     "output_type": "execute_result"
    }
   ],
   "source": [
    "date_rebuy=data_user[data_user.behavior_type==4].groupby('user_id')['date'].apply(lambda x:len(x.unique())).rename('rebuy_count')\n",
    "rebuy_rate = round(date_rebuy[date_rebuy>=2].count()/date_rebuy.count(),4)\n",
    "rebuy_rate"
   ]
  },
  {
   "cell_type": "code",
   "execution_count": null,
   "metadata": {},
   "outputs": [],
   "source": [
    "\"\"\"\n",
    "淘宝用户复购率为0.8717\n",
    "\"\"\""
   ]
  },
  {
   "cell_type": "code",
   "execution_count": 46,
   "metadata": {},
   "outputs": [],
   "source": [
    "#用户复购次数"
   ]
  },
  {
   "cell_type": "code",
   "execution_count": 47,
   "metadata": {},
   "outputs": [
    {
     "name": "stderr",
     "output_type": "stream",
     "text": [
      "C:\\ProgramData\\Anaconda3\\lib\\site-packages\\matplotlib\\axes\\_axes.py:6462: UserWarning: The 'normed' kwarg is deprecated, and has been replaced by the 'density' kwarg.\n",
      "  warnings.warn(\"The 'normed' kwarg is deprecated, and has been \"\n"
     ]
    },
    {
     "data": {
      "text/plain": [
       "Text(0.5,1,'rebuy_user')"
      ]
     },
     "execution_count": 47,
     "metadata": {},
     "output_type": "execute_result"
    },
    {
     "data": {
      "image/png": "[encoded data removed]",
      "text/plain": [
       "<Figure size 432x288 with 1 Axes>"
      ]
     },
     "metadata": {},
     "output_type": "display_data"
    }
   ],
   "source": [
    "sns.distplot(date_rebuy[date_rebuy>=2])\n",
    "plt.title(\"rebuy_user\")"
   ]
  },
  {
   "cell_type": "code",
   "execution_count": 48,
   "metadata": {},
   "outputs": [
    {
     "data": {
      "text/plain": [
       "count    7746.000000\n",
       "mean        6.204622\n",
       "std         3.883498\n",
       "min         2.000000\n",
       "25%         3.000000\n",
       "50%         5.000000\n",
       "75%         8.000000\n",
       "max        30.000000\n",
       "Name: rebuy_count, dtype: float64"
      ]
     },
     "execution_count": 48,
     "metadata": {},
     "output_type": "execute_result"
    }
   ],
   "source": [
    "(date_rebuy[date_rebuy>=2]).describe()"
   ]
  },
  {
   "cell_type": "code",
   "execution_count": 49,
   "metadata": {},
   "outputs": [
    {
     "data": {
      "text/plain": [
       "2"
      ]
     },
     "execution_count": 49,
     "metadata": {},
     "output_type": "execute_result"
    }
   ],
   "source": [
    "date_rebuy[date_rebuy>=2].mode()[0]"
   ]
  },
  {
   "cell_type": "code",
   "execution_count": null,
   "metadata": {},
   "outputs": [],
   "source": [
    "\"\"\"\n",
    "在复购的用户中，大部分人都会复购7次以下（75%），\n",
    "\n",
    "并且复购1次（众数）的人数最多\n",
    "\"\"\""
   ]
  },
  {
   "cell_type": "code",
   "execution_count": 50,
   "metadata": {},
   "outputs": [],
   "source": [
    "#复购时间间隔"
   ]
  },
  {
   "cell_type": "code",
   "execution_count": null,
   "metadata": {},
   "outputs": [],
   "source": [
    "\"\"\"\n",
    "data_day_buy指代用户在对应日期的消费次数\n",
    "\n",
    "data_user_buy4指代复购用户用户在对应日期完成购买，是在间隔上一次购买多少天之后进行的。\n",
    "\"\"\""
   ]
  },
  {
   "cell_type": "code",
   "execution_count": 51,
   "metadata": {},
   "outputs": [],
   "source": [
    "data_day_buy=data_user[data_user.behavior_type==4].groupby(['user_id','date'])['operation'].count().reset_index()\n",
    "data_user_buy4=data_day_buy.groupby('user_id')['date'].apply(lambda x:x.sort_values().diff(1).dropna())\n",
    "data_user_buy4=data_user_buy4.map(lambda x:x.days)"
   ]
  },
  {
   "cell_type": "code",
   "execution_count": null,
   "metadata": {},
   "outputs": [],
   "source": [
    "#dataframe.diff(periods,axis)\n",
    "#periods：表示移动的幅度。它是任意整数，\n",
    "#如果是想让数据统一向下移动n个periods，则n为正，\n",
    "#如果是想让数据向上移动n个periods，则n为负"
   ]
  },
  {
   "cell_type": "code",
   "execution_count": 52,
   "metadata": {},
   "outputs": [
    {
     "data": {
      "text/plain": [
       "Text(0,0.5,'gap_count')"
      ]
     },
     "execution_count": 52,
     "metadata": {},
     "output_type": "execute_result"
    },
    {
     "data": {
      "image/png": "[encoded data removed]",
      "text/plain": [
       "<Figure size 432x288 with 1 Axes>"
      ]
     },
     "metadata": {},
     "output_type": "display_data"
    }
   ],
   "source": [
    "data_user_buy4.value_counts().plot(kind='bar')\n",
    "plt.title('time_gap')\n",
    "plt.xlabel('gap_day')\n",
    "plt.ylabel('gap_count')"
   ]
  },
  {
   "cell_type": "code",
   "execution_count": 53,
   "metadata": {},
   "outputs": [
    {
     "data": {
      "text/plain": [
       "count    40315.000000\n",
       "mean         3.732333\n",
       "std          3.858599\n",
       "min          1.000000\n",
       "25%          1.000000\n",
       "50%          2.000000\n",
       "75%          5.000000\n",
       "max         30.000000\n",
       "Name: date, dtype: float64"
      ]
     },
     "execution_count": 53,
     "metadata": {},
     "output_type": "execute_result"
    }
   ],
   "source": [
    "data_user_buy4.describe()"
   ]
  },
  {
   "cell_type": "code",
   "execution_count": null,
   "metadata": {},
   "outputs": [],
   "source": [
    "\"\"\"\n",
    "用户的复购时间间隔整体呈现递减趋势\n",
    "\n",
    "用户的复购时间间隔大概在5天以内(75%的用户)，\n",
    "\n",
    "5天之后很少出现复购的情况\n",
    "\"\"\""
   ]
  },
  {
   "cell_type": "code",
   "execution_count": 54,
   "metadata": {},
   "outputs": [],
   "source": [
    "#流失分析（漏斗法）"
   ]
  },
  {
   "cell_type": "code",
   "execution_count": null,
   "metadata": {},
   "outputs": [],
   "source": [
    "\"\"\"\n",
    "流失分析思路\n",
    "\n",
    "因为加入购物车量大于收藏量，因此置于前边\n",
    "\n",
    "总浏览量 -> 点击量 -> 加入购物车量 -> 收藏量 -> 购买量\n",
    "\n",
    "data_user_count表示4种行为的次数\n",
    "pv_all表示总浏览量\n",
    "\"\"\""
   ]
  },
  {
   "cell_type": "code",
   "execution_count": 55,
   "metadata": {},
   "outputs": [
    {
     "data": {
      "text/plain": [
       "(12256906, 11550581, 343564, 242556, 120205)"
      ]
     },
     "execution_count": 55,
     "metadata": {},
     "output_type": "execute_result"
    }
   ],
   "source": [
    "data_user_count=data_user.groupby('behavior_type')['user_id'].count().reset_index()\n",
    "total_click = data_user_count.iloc[0,1]\n",
    "total_cart = data_user_count.iloc[2,1]\n",
    "total_collect = data_user_count.iloc[1,1]\n",
    "total_buy = data_user_count.iloc[3,1]\n",
    "pv_all=data_user['user_id'].count()\n",
    "pv_all,total_click,total_cart,total_collect,total_buy"
   ]
  },
  {
   "cell_type": "code",
   "execution_count": null,
   "metadata": {},
   "outputs": [],
   "source": [
    "\"\"\"\n",
    "总浏览量 12256906 -> \n",
    "点击量 11550581 -> \n",
    "加入购物车量 343564 -> \n",
    "收藏量 242556 -> \n",
    "购买量 120205\n",
    "\n",
    "\"\"\""
   ]
  },
  {
   "cell_type": "code",
   "execution_count": 56,
   "metadata": {},
   "outputs": [],
   "source": [
    "a = (pv_all-total_click)/pv_all\n",
    "b = (total_click-total_cart)/total_click\n",
    "c = (total_cart-total_collect)/total_cart\n",
    "d = (total_collect-total_buy)/total_collect"
   ]
  },
  {
   "cell_type": "code",
   "execution_count": 57,
   "metadata": {},
   "outputs": [
    {
     "name": "stdout",
     "output_type": "stream",
     "text": [
      "总浏览量—点击量 流失率：0.0576 \n",
      "点击量-加入购物车量 流失率：0.9703 \n",
      "加入购物车量-收藏量 流失率：0.2940 \n",
      "收藏量-购买量 流失率：0.5044 \n",
      "\n"
     ]
    }
   ],
   "source": [
    "print(\"总浏览量—点击量 流失率：%.4f \\n\" % a + \n",
    "      \"点击量-加入购物车量 流失率：%.4f \\n\" % b + \n",
    "      \"加入购物车量-收藏量 流失率：%.4f \\n\" % c + \n",
    "      \"收藏量-购买量 流失率：%.4f \\n\" % d)"
   ]
  },
  {
   "cell_type": "markdown",
   "metadata": {},
   "source": [
    "### 2.2 用户价值分析（RFM模型）"
   ]
  },
  {
   "cell_type": "code",
   "execution_count": null,
   "metadata": {},
   "outputs": [],
   "source": [
    "\"\"\"\n",
    "原始RFM中，R = recency最近访问日期, \n",
    "F = frequency 访问频率， \n",
    "M = monetary 平均消费金额。\n",
    "在这里由于数据中没有消费金额，所以M以购买频率来代替。\n",
    "\n",
    "R 最近访问日期\n",
    "最近访问日期，假设2014年12月18日为今天。\n",
    "分三类。R<=7， R<=14, R>14, 分别为1,2,3\n",
    "F 访问频率\n",
    "访问频率计算 = count(pv)。\n",
    "按频率分三类，最高到最低，分别为1,2,3\n",
    "M 消费次数\n",
    "消费次数计算 = count(buy).\n",
    "按频率分为三类，最高到最低，分别为1,2,3.\n",
    "\n",
    "rfm表示进行RFM模型所需要用到的三列数据\n",
    "\"\"\""
   ]
  },
  {
   "cell_type": "code",
   "execution_count": 58,
   "metadata": {},
   "outputs": [],
   "source": [
    "rfm = data_user[['user_id','behavior_type','date']]"
   ]
  },
  {
   "cell_type": "code",
   "execution_count": 59,
   "metadata": {},
   "outputs": [
    {
     "data": {
      "text/html": [
       "<div>\n",
       "<style scoped>\n",
       "    .dataframe tbody tr th:only-of-type {\n",
       "        vertical-align: middle;\n",
       "    }\n",
       "\n",
       "    .dataframe tbody tr th {\n",
       "        vertical-align: top;\n",
       "    }\n",
       "\n",
       "    .dataframe thead th {\n",
       "        text-align: right;\n",
       "    }\n",
       "</style>\n",
       "<table border=\"1\" class=\"dataframe\">\n",
       "  <thead>\n",
       "    <tr style=\"text-align: right;\">\n",
       "      <th></th>\n",
       "      <th>user_id</th>\n",
       "      <th>behavior_type</th>\n",
       "      <th>date</th>\n",
       "    </tr>\n",
       "  </thead>\n",
       "  <tbody>\n",
       "    <tr>\n",
       "      <th>0</th>\n",
       "      <td>98047837</td>\n",
       "      <td>1</td>\n",
       "      <td>2014-12-06</td>\n",
       "    </tr>\n",
       "    <tr>\n",
       "      <th>1</th>\n",
       "      <td>97726136</td>\n",
       "      <td>1</td>\n",
       "      <td>2014-12-09</td>\n",
       "    </tr>\n",
       "    <tr>\n",
       "      <th>2</th>\n",
       "      <td>98607707</td>\n",
       "      <td>1</td>\n",
       "      <td>2014-12-18</td>\n",
       "    </tr>\n",
       "    <tr>\n",
       "      <th>3</th>\n",
       "      <td>98662432</td>\n",
       "      <td>1</td>\n",
       "      <td>2014-12-06</td>\n",
       "    </tr>\n",
       "    <tr>\n",
       "      <th>4</th>\n",
       "      <td>98145908</td>\n",
       "      <td>1</td>\n",
       "      <td>2014-12-16</td>\n",
       "    </tr>\n",
       "  </tbody>\n",
       "</table>\n",
       "</div>"
      ],
      "text/plain": [
       "    user_id  behavior_type       date\n",
       "0  98047837              1 2014-12-06\n",
       "1  97726136              1 2014-12-09\n",
       "2  98607707              1 2014-12-18\n",
       "3  98662432              1 2014-12-06\n",
       "4  98145908              1 2014-12-16"
      ]
     },
     "execution_count": 59,
     "metadata": {},
     "output_type": "execute_result"
    }
   ],
   "source": [
    "rfm.head()"
   ]
  },
  {
   "cell_type": "markdown",
   "metadata": {},
   "source": [
    "#### 2.2.1 Recency 最近访问日期 "
   ]
  },
  {
   "cell_type": "code",
   "execution_count": 60,
   "metadata": {},
   "outputs": [
    {
     "name": "stderr",
     "output_type": "stream",
     "text": [
      "C:\\ProgramData\\Anaconda3\\lib\\site-packages\\ipykernel_launcher.py:2: SettingWithCopyWarning: \n",
      "A value is trying to be set on a copy of a slice from a DataFrame.\n",
      "Try using .loc[row_indexer,col_indexer] = value instead\n",
      "\n",
      "See the caveats in the documentation: http://pandas.pydata.org/pandas-docs/stable/indexing.html#indexing-view-versus-copy\n",
      "  \n"
     ]
    }
   ],
   "source": [
    "#计算最近访问日期recency\n",
    "rfm['recency'] = max(rfm['date']) - rfm['date']"
   ]
  },
  {
   "cell_type": "code",
   "execution_count": 61,
   "metadata": {},
   "outputs": [
    {
     "name": "stderr",
     "output_type": "stream",
     "text": [
      "C:\\ProgramData\\Anaconda3\\lib\\site-packages\\ipykernel_launcher.py:2: SettingWithCopyWarning: \n",
      "A value is trying to be set on a copy of a slice from a DataFrame.\n",
      "Try using .loc[row_indexer,col_indexer] = value instead\n",
      "\n",
      "See the caveats in the documentation: http://pandas.pydata.org/pandas-docs/stable/indexing.html#indexing-view-versus-copy\n",
      "  \n"
     ]
    }
   ],
   "source": [
    "#datetime格式改为string\n",
    "rfm['recency'] = rfm['recency'].astype(str)"
   ]
  },
  {
   "cell_type": "code",
   "execution_count": 62,
   "metadata": {},
   "outputs": [
    {
     "name": "stderr",
     "output_type": "stream",
     "text": [
      "C:\\ProgramData\\Anaconda3\\lib\\site-packages\\ipykernel_launcher.py:2: SettingWithCopyWarning: \n",
      "A value is trying to be set on a copy of a slice from a DataFrame.\n",
      "Try using .loc[row_indexer,col_indexer] = value instead\n",
      "\n",
      "See the caveats in the documentation: http://pandas.pydata.org/pandas-docs/stable/indexing.html#indexing-view-versus-copy\n",
      "  \n"
     ]
    },
    {
     "data": {
      "text/html": [
       "<div>\n",
       "<style scoped>\n",
       "    .dataframe tbody tr th:only-of-type {\n",
       "        vertical-align: middle;\n",
       "    }\n",
       "\n",
       "    .dataframe tbody tr th {\n",
       "        vertical-align: top;\n",
       "    }\n",
       "\n",
       "    .dataframe thead th {\n",
       "        text-align: right;\n",
       "    }\n",
       "</style>\n",
       "<table border=\"1\" class=\"dataframe\">\n",
       "  <thead>\n",
       "    <tr style=\"text-align: right;\">\n",
       "      <th></th>\n",
       "      <th>user_id</th>\n",
       "      <th>behavior_type</th>\n",
       "      <th>date</th>\n",
       "      <th>recency</th>\n",
       "      <th>recency_d</th>\n",
       "    </tr>\n",
       "  </thead>\n",
       "  <tbody>\n",
       "    <tr>\n",
       "      <th>0</th>\n",
       "      <td>98047837</td>\n",
       "      <td>1</td>\n",
       "      <td>2014-12-06</td>\n",
       "      <td>12 days 00:00:00.000000000</td>\n",
       "      <td>12</td>\n",
       "    </tr>\n",
       "    <tr>\n",
       "      <th>1</th>\n",
       "      <td>97726136</td>\n",
       "      <td>1</td>\n",
       "      <td>2014-12-09</td>\n",
       "      <td>9 days 00:00:00.000000000</td>\n",
       "      <td>9</td>\n",
       "    </tr>\n",
       "    <tr>\n",
       "      <th>2</th>\n",
       "      <td>98607707</td>\n",
       "      <td>1</td>\n",
       "      <td>2014-12-18</td>\n",
       "      <td>0 days 00:00:00.000000000</td>\n",
       "      <td>0</td>\n",
       "    </tr>\n",
       "    <tr>\n",
       "      <th>3</th>\n",
       "      <td>98662432</td>\n",
       "      <td>1</td>\n",
       "      <td>2014-12-06</td>\n",
       "      <td>12 days 00:00:00.000000000</td>\n",
       "      <td>12</td>\n",
       "    </tr>\n",
       "    <tr>\n",
       "      <th>4</th>\n",
       "      <td>98145908</td>\n",
       "      <td>1</td>\n",
       "      <td>2014-12-16</td>\n",
       "      <td>2 days 00:00:00.000000000</td>\n",
       "      <td>2</td>\n",
       "    </tr>\n",
       "  </tbody>\n",
       "</table>\n",
       "</div>"
      ],
      "text/plain": [
       "    user_id  behavior_type       date                     recency recency_d\n",
       "0  98047837              1 2014-12-06  12 days 00:00:00.000000000        12\n",
       "1  97726136              1 2014-12-09   9 days 00:00:00.000000000         9\n",
       "2  98607707              1 2014-12-18   0 days 00:00:00.000000000         0\n",
       "3  98662432              1 2014-12-06  12 days 00:00:00.000000000        12\n",
       "4  98145908              1 2014-12-16   2 days 00:00:00.000000000         2"
      ]
     },
     "execution_count": 62,
     "metadata": {},
     "output_type": "execute_result"
    }
   ],
   "source": [
    "#抽取时间间隔中的数字\n",
    "rfm['recency_d'] = rfm['recency'].str.extract('(^\\d+)')\n",
    "#^:行开头，\\d：数字，+：出现至少1次\n",
    "rfm.head()"
   ]
  },
  {
   "cell_type": "code",
   "execution_count": 63,
   "metadata": {},
   "outputs": [],
   "source": [
    "#按user_id 找到recency\n",
    "recency=rfm.groupby('user_id')['recency_d'].min().reset_index()"
   ]
  },
  {
   "cell_type": "code",
   "execution_count": 64,
   "metadata": {},
   "outputs": [
    {
     "data": {
      "text/html": [
       "<div>\n",
       "<style scoped>\n",
       "    .dataframe tbody tr th:only-of-type {\n",
       "        vertical-align: middle;\n",
       "    }\n",
       "\n",
       "    .dataframe tbody tr th {\n",
       "        vertical-align: top;\n",
       "    }\n",
       "\n",
       "    .dataframe thead th {\n",
       "        text-align: right;\n",
       "    }\n",
       "</style>\n",
       "<table border=\"1\" class=\"dataframe\">\n",
       "  <thead>\n",
       "    <tr style=\"text-align: right;\">\n",
       "      <th></th>\n",
       "      <th>user_id</th>\n",
       "      <th>recency_d</th>\n",
       "    </tr>\n",
       "  </thead>\n",
       "  <tbody>\n",
       "    <tr>\n",
       "      <th>0</th>\n",
       "      <td>4913</td>\n",
       "      <td>0</td>\n",
       "    </tr>\n",
       "    <tr>\n",
       "      <th>1</th>\n",
       "      <td>6118</td>\n",
       "      <td>0</td>\n",
       "    </tr>\n",
       "    <tr>\n",
       "      <th>2</th>\n",
       "      <td>7528</td>\n",
       "      <td>11</td>\n",
       "    </tr>\n",
       "    <tr>\n",
       "      <th>3</th>\n",
       "      <td>7591</td>\n",
       "      <td>0</td>\n",
       "    </tr>\n",
       "    <tr>\n",
       "      <th>4</th>\n",
       "      <td>12645</td>\n",
       "      <td>0</td>\n",
       "    </tr>\n",
       "  </tbody>\n",
       "</table>\n",
       "</div>"
      ],
      "text/plain": [
       "   user_id  recency_d\n",
       "0     4913          0\n",
       "1     6118          0\n",
       "2     7528         11\n",
       "3     7591          0\n",
       "4    12645          0"
      ]
     },
     "execution_count": 64,
     "metadata": {},
     "output_type": "execute_result"
    }
   ],
   "source": [
    "#R转换为数字方便计算\n",
    "recency['recency_d'] = recency['recency_d'].astype(int)\n",
    "recency.head()"
   ]
  },
  {
   "cell_type": "code",
   "execution_count": 65,
   "metadata": {},
   "outputs": [
    {
     "data": {
      "text/html": [
       "<div>\n",
       "<style scoped>\n",
       "    .dataframe tbody tr th:only-of-type {\n",
       "        vertical-align: middle;\n",
       "    }\n",
       "\n",
       "    .dataframe tbody tr th {\n",
       "        vertical-align: top;\n",
       "    }\n",
       "\n",
       "    .dataframe thead th {\n",
       "        text-align: right;\n",
       "    }\n",
       "</style>\n",
       "<table border=\"1\" class=\"dataframe\">\n",
       "  <thead>\n",
       "    <tr style=\"text-align: right;\">\n",
       "      <th></th>\n",
       "      <th>user_id</th>\n",
       "      <th>recency_d</th>\n",
       "      <th>r_class</th>\n",
       "    </tr>\n",
       "  </thead>\n",
       "  <tbody>\n",
       "    <tr>\n",
       "      <th>0</th>\n",
       "      <td>4913</td>\n",
       "      <td>0</td>\n",
       "      <td>1</td>\n",
       "    </tr>\n",
       "    <tr>\n",
       "      <th>1</th>\n",
       "      <td>6118</td>\n",
       "      <td>0</td>\n",
       "      <td>1</td>\n",
       "    </tr>\n",
       "    <tr>\n",
       "      <th>2</th>\n",
       "      <td>7528</td>\n",
       "      <td>11</td>\n",
       "      <td>2</td>\n",
       "    </tr>\n",
       "    <tr>\n",
       "      <th>3</th>\n",
       "      <td>7591</td>\n",
       "      <td>0</td>\n",
       "      <td>1</td>\n",
       "    </tr>\n",
       "    <tr>\n",
       "      <th>4</th>\n",
       "      <td>12645</td>\n",
       "      <td>0</td>\n",
       "      <td>1</td>\n",
       "    </tr>\n",
       "  </tbody>\n",
       "</table>\n",
       "</div>"
      ],
      "text/plain": [
       "   user_id  recency_d r_class\n",
       "0     4913          0       1\n",
       "1     6118          0       1\n",
       "2     7528         11       2\n",
       "3     7591          0       1\n",
       "4    12645          0       1"
      ]
     },
     "execution_count": 65,
     "metadata": {},
     "output_type": "execute_result"
    }
   ],
   "source": [
    "#把Recency分类，分3组。用np.select\n",
    "#np.select 三个参数：conditions, choices, default.\n",
    "conditions = [\n",
    "    recency['recency_d']<= 7,\n",
    "    (recency['recency_d'] > 7)&(recency['recency_d'] <= 14),\n",
    "    recency['recency_d']>14]\n",
    "\n",
    "\n",
    "choices = ['1','2','3']\n",
    "recency['r_class'] = np.select(conditions, choices)\n",
    "recency.head()"
   ]
  },
  {
   "cell_type": "markdown",
   "metadata": {},
   "source": [
    "#### 2.2.2 Frequency 访问频率和 Monetary 消费次数 "
   ]
  },
  {
   "cell_type": "code",
   "execution_count": 66,
   "metadata": {},
   "outputs": [],
   "source": [
    "#找到不同user_id的不同行为的访问次数\n",
    "rfm_bType = rfm.groupby(['user_id','behavior_type'])['date'].count().reset_index()"
   ]
  },
  {
   "cell_type": "code",
   "execution_count": 67,
   "metadata": {},
   "outputs": [
    {
     "data": {
      "text/html": [
       "<div>\n",
       "<style scoped>\n",
       "    .dataframe tbody tr th:only-of-type {\n",
       "        vertical-align: middle;\n",
       "    }\n",
       "\n",
       "    .dataframe tbody tr th {\n",
       "        vertical-align: top;\n",
       "    }\n",
       "\n",
       "    .dataframe thead th {\n",
       "        text-align: right;\n",
       "    }\n",
       "</style>\n",
       "<table border=\"1\" class=\"dataframe\">\n",
       "  <thead>\n",
       "    <tr style=\"text-align: right;\">\n",
       "      <th></th>\n",
       "      <th>user_id</th>\n",
       "      <th>behavior_type</th>\n",
       "      <th>date</th>\n",
       "    </tr>\n",
       "  </thead>\n",
       "  <tbody>\n",
       "    <tr>\n",
       "      <th>0</th>\n",
       "      <td>4913</td>\n",
       "      <td>1</td>\n",
       "      <td>1658</td>\n",
       "    </tr>\n",
       "    <tr>\n",
       "      <th>1</th>\n",
       "      <td>4913</td>\n",
       "      <td>2</td>\n",
       "      <td>49</td>\n",
       "    </tr>\n",
       "    <tr>\n",
       "      <th>2</th>\n",
       "      <td>4913</td>\n",
       "      <td>3</td>\n",
       "      <td>29</td>\n",
       "    </tr>\n",
       "    <tr>\n",
       "      <th>3</th>\n",
       "      <td>4913</td>\n",
       "      <td>4</td>\n",
       "      <td>6</td>\n",
       "    </tr>\n",
       "    <tr>\n",
       "      <th>4</th>\n",
       "      <td>6118</td>\n",
       "      <td>1</td>\n",
       "      <td>112</td>\n",
       "    </tr>\n",
       "  </tbody>\n",
       "</table>\n",
       "</div>"
      ],
      "text/plain": [
       "   user_id  behavior_type  date\n",
       "0     4913              1  1658\n",
       "1     4913              2    49\n",
       "2     4913              3    29\n",
       "3     4913              4     6\n",
       "4     6118              1   112"
      ]
     },
     "execution_count": 67,
     "metadata": {},
     "output_type": "execute_result"
    }
   ],
   "source": [
    "rfm_bType.head()"
   ]
  },
  {
   "cell_type": "code",
   "execution_count": 68,
   "metadata": {},
   "outputs": [
    {
     "data": {
      "text/html": [
       "<div>\n",
       "<style scoped>\n",
       "    .dataframe tbody tr th:only-of-type {\n",
       "        vertical-align: middle;\n",
       "    }\n",
       "\n",
       "    .dataframe tbody tr th {\n",
       "        vertical-align: top;\n",
       "    }\n",
       "\n",
       "    .dataframe thead th {\n",
       "        text-align: right;\n",
       "    }\n",
       "</style>\n",
       "<table border=\"1\" class=\"dataframe\">\n",
       "  <thead>\n",
       "    <tr style=\"text-align: right;\">\n",
       "      <th>behavior_type</th>\n",
       "      <th>1</th>\n",
       "      <th>2</th>\n",
       "      <th>3</th>\n",
       "      <th>4</th>\n",
       "    </tr>\n",
       "    <tr>\n",
       "      <th>user_id</th>\n",
       "      <th></th>\n",
       "      <th></th>\n",
       "      <th></th>\n",
       "      <th></th>\n",
       "    </tr>\n",
       "  </thead>\n",
       "  <tbody>\n",
       "    <tr>\n",
       "      <th>4913</th>\n",
       "      <td>1658.0</td>\n",
       "      <td>49.0</td>\n",
       "      <td>29.0</td>\n",
       "      <td>6.0</td>\n",
       "    </tr>\n",
       "    <tr>\n",
       "      <th>6118</th>\n",
       "      <td>112.0</td>\n",
       "      <td>4.0</td>\n",
       "      <td>0.0</td>\n",
       "      <td>1.0</td>\n",
       "    </tr>\n",
       "    <tr>\n",
       "      <th>7528</th>\n",
       "      <td>183.0</td>\n",
       "      <td>1.0</td>\n",
       "      <td>24.0</td>\n",
       "      <td>6.0</td>\n",
       "    </tr>\n",
       "    <tr>\n",
       "      <th>7591</th>\n",
       "      <td>824.0</td>\n",
       "      <td>0.0</td>\n",
       "      <td>14.0</td>\n",
       "      <td>21.0</td>\n",
       "    </tr>\n",
       "    <tr>\n",
       "      <th>12645</th>\n",
       "      <td>248.0</td>\n",
       "      <td>2.0</td>\n",
       "      <td>10.0</td>\n",
       "      <td>8.0</td>\n",
       "    </tr>\n",
       "  </tbody>\n",
       "</table>\n",
       "</div>"
      ],
      "text/plain": [
       "behavior_type       1     2     3     4\n",
       "user_id                                \n",
       "4913           1658.0  49.0  29.0   6.0\n",
       "6118            112.0   4.0   0.0   1.0\n",
       "7528            183.0   1.0  24.0   6.0\n",
       "7591            824.0   0.0  14.0  21.0\n",
       "12645           248.0   2.0  10.0   8.0"
      ]
     },
     "execution_count": 68,
     "metadata": {},
     "output_type": "execute_result"
    }
   ],
   "source": [
    "rfm_bType_pivot = rfm_bType.pivot(index = 'user_id',columns = 'behavior_type',values = 'date')\n",
    "rfm_bType_pivot = rfm_bType_pivot.fillna(0)\n",
    "rfm_bType_pivot.head()  "
   ]
  },
  {
   "cell_type": "code",
   "execution_count": 69,
   "metadata": {},
   "outputs": [
    {
     "data": {
      "text/html": [
       "<div>\n",
       "<style scoped>\n",
       "    .dataframe tbody tr th:only-of-type {\n",
       "        vertical-align: middle;\n",
       "    }\n",
       "\n",
       "    .dataframe tbody tr th {\n",
       "        vertical-align: top;\n",
       "    }\n",
       "\n",
       "    .dataframe thead th {\n",
       "        text-align: right;\n",
       "    }\n",
       "</style>\n",
       "<table border=\"1\" class=\"dataframe\">\n",
       "  <thead>\n",
       "    <tr style=\"text-align: right;\">\n",
       "      <th>behavior_type</th>\n",
       "      <th>1</th>\n",
       "      <th>2</th>\n",
       "      <th>3</th>\n",
       "      <th>4</th>\n",
       "    </tr>\n",
       "    <tr>\n",
       "      <th>user_id</th>\n",
       "      <th></th>\n",
       "      <th></th>\n",
       "      <th></th>\n",
       "      <th></th>\n",
       "    </tr>\n",
       "  </thead>\n",
       "  <tbody>\n",
       "    <tr>\n",
       "      <th>4913</th>\n",
       "      <td>1658.0</td>\n",
       "      <td>49.0</td>\n",
       "      <td>29.0</td>\n",
       "      <td>6.0</td>\n",
       "    </tr>\n",
       "    <tr>\n",
       "      <th>6118</th>\n",
       "      <td>112.0</td>\n",
       "      <td>4.0</td>\n",
       "      <td>0.0</td>\n",
       "      <td>1.0</td>\n",
       "    </tr>\n",
       "    <tr>\n",
       "      <th>7528</th>\n",
       "      <td>183.0</td>\n",
       "      <td>1.0</td>\n",
       "      <td>24.0</td>\n",
       "      <td>6.0</td>\n",
       "    </tr>\n",
       "    <tr>\n",
       "      <th>7591</th>\n",
       "      <td>824.0</td>\n",
       "      <td>0.0</td>\n",
       "      <td>14.0</td>\n",
       "      <td>21.0</td>\n",
       "    </tr>\n",
       "    <tr>\n",
       "      <th>12645</th>\n",
       "      <td>248.0</td>\n",
       "      <td>2.0</td>\n",
       "      <td>10.0</td>\n",
       "      <td>8.0</td>\n",
       "    </tr>\n",
       "  </tbody>\n",
       "</table>\n",
       "</div>"
      ],
      "text/plain": [
       "behavior_type       1     2     3     4\n",
       "user_id                                \n",
       "4913           1658.0  49.0  29.0   6.0\n",
       "6118            112.0   4.0   0.0   1.0\n",
       "7528            183.0   1.0  24.0   6.0\n",
       "7591            824.0   0.0  14.0  21.0\n",
       "12645           248.0   2.0  10.0   8.0"
      ]
     },
     "execution_count": 69,
     "metadata": {},
     "output_type": "execute_result"
    }
   ],
   "source": [
    "rfm_bType_pivot.head()"
   ]
  },
  {
   "cell_type": "code",
   "execution_count": 70,
   "metadata": {},
   "outputs": [],
   "source": [
    "#点击、收藏、加购物车、支付四种行为，分别用数字1、2、3、4表示）\n",
    "#F(pv count)和 M(buy count)分类。按percentile"
   ]
  },
  {
   "cell_type": "code",
   "execution_count": 71,
   "metadata": {},
   "outputs": [
    {
     "data": {
      "text/plain": [
       "(403.0, 1102.3400000000001)"
      ]
     },
     "execution_count": 71,
     "metadata": {},
     "output_type": "execute_result"
    }
   ],
   "source": [
    "#计算F的33和66分位\n",
    "pv_33 = np.percentile(rfm_bType_pivot[1],33)\n",
    "pv_66 = np.percentile(rfm_bType_pivot[1],66)\n",
    "pv_33,pv_66"
   ]
  },
  {
   "cell_type": "code",
   "execution_count": 72,
   "metadata": {},
   "outputs": [],
   "source": [
    "#把Frequency分类, 分3组。用np.select\n",
    "conditions = [\n",
    "    rfm_bType_pivot[1] <= pv_33,\n",
    "    (rfm_bType_pivot[1] > pv_33)&(rfm_bType_pivot[1] <= pv_66),\n",
    "    rfm_bType_pivot[1] > pv_66]\n",
    "\n",
    "\n",
    "choices = ['3','2','1']\n",
    "rfm_bType_pivot['f_class'] = np.select(conditions, choices)"
   ]
  },
  {
   "cell_type": "code",
   "execution_count": 73,
   "metadata": {},
   "outputs": [
    {
     "data": {
      "text/plain": [
       "(4.0, 11.0)"
      ]
     },
     "execution_count": 73,
     "metadata": {},
     "output_type": "execute_result"
    }
   ],
   "source": [
    "#计算M的33和66分位\n",
    "buy_33 = np.percentile(rfm_bType_pivot[4],33)\n",
    "buy_66 = np.percentile(rfm_bType_pivot[4],66)\n",
    "buy_33,buy_66"
   ]
  },
  {
   "cell_type": "code",
   "execution_count": 74,
   "metadata": {},
   "outputs": [],
   "source": [
    "#把Monetary分类, 分3组。用np.select\n",
    "conditions = [\n",
    "    rfm_bType_pivot[4] <= buy_33,\n",
    "    (rfm_bType_pivot[4] > buy_33)&(rfm_bType_pivot[4] <= buy_66),\n",
    "    rfm_bType_pivot[4] > buy_66]\n",
    "\n",
    "\n",
    "choices = ['3','2','1']\n",
    "rfm_bType_pivot['m_class'] = np.select(conditions, choices)"
   ]
  },
  {
   "cell_type": "code",
   "execution_count": 75,
   "metadata": {},
   "outputs": [
    {
     "data": {
      "text/html": [
       "<div>\n",
       "<style scoped>\n",
       "    .dataframe tbody tr th:only-of-type {\n",
       "        vertical-align: middle;\n",
       "    }\n",
       "\n",
       "    .dataframe tbody tr th {\n",
       "        vertical-align: top;\n",
       "    }\n",
       "\n",
       "    .dataframe thead th {\n",
       "        text-align: right;\n",
       "    }\n",
       "</style>\n",
       "<table border=\"1\" class=\"dataframe\">\n",
       "  <thead>\n",
       "    <tr style=\"text-align: right;\">\n",
       "      <th>behavior_type</th>\n",
       "      <th>1</th>\n",
       "      <th>2</th>\n",
       "      <th>3</th>\n",
       "      <th>4</th>\n",
       "      <th>f_class</th>\n",
       "      <th>m_class</th>\n",
       "    </tr>\n",
       "    <tr>\n",
       "      <th>user_id</th>\n",
       "      <th></th>\n",
       "      <th></th>\n",
       "      <th></th>\n",
       "      <th></th>\n",
       "      <th></th>\n",
       "      <th></th>\n",
       "    </tr>\n",
       "  </thead>\n",
       "  <tbody>\n",
       "    <tr>\n",
       "      <th>4913</th>\n",
       "      <td>1658.0</td>\n",
       "      <td>49.0</td>\n",
       "      <td>29.0</td>\n",
       "      <td>6.0</td>\n",
       "      <td>1</td>\n",
       "      <td>2</td>\n",
       "    </tr>\n",
       "    <tr>\n",
       "      <th>6118</th>\n",
       "      <td>112.0</td>\n",
       "      <td>4.0</td>\n",
       "      <td>0.0</td>\n",
       "      <td>1.0</td>\n",
       "      <td>3</td>\n",
       "      <td>3</td>\n",
       "    </tr>\n",
       "    <tr>\n",
       "      <th>7528</th>\n",
       "      <td>183.0</td>\n",
       "      <td>1.0</td>\n",
       "      <td>24.0</td>\n",
       "      <td>6.0</td>\n",
       "      <td>3</td>\n",
       "      <td>2</td>\n",
       "    </tr>\n",
       "    <tr>\n",
       "      <th>7591</th>\n",
       "      <td>824.0</td>\n",
       "      <td>0.0</td>\n",
       "      <td>14.0</td>\n",
       "      <td>21.0</td>\n",
       "      <td>2</td>\n",
       "      <td>1</td>\n",
       "    </tr>\n",
       "    <tr>\n",
       "      <th>12645</th>\n",
       "      <td>248.0</td>\n",
       "      <td>2.0</td>\n",
       "      <td>10.0</td>\n",
       "      <td>8.0</td>\n",
       "      <td>3</td>\n",
       "      <td>2</td>\n",
       "    </tr>\n",
       "  </tbody>\n",
       "</table>\n",
       "</div>"
      ],
      "text/plain": [
       "behavior_type       1     2     3     4 f_class m_class\n",
       "user_id                                                \n",
       "4913           1658.0  49.0  29.0   6.0       1       2\n",
       "6118            112.0   4.0   0.0   1.0       3       3\n",
       "7528            183.0   1.0  24.0   6.0       3       2\n",
       "7591            824.0   0.0  14.0  21.0       2       1\n",
       "12645           248.0   2.0  10.0   8.0       3       2"
      ]
     },
     "execution_count": 75,
     "metadata": {},
     "output_type": "execute_result"
    }
   ],
   "source": [
    "rfm_bType_pivot.head()"
   ]
  },
  {
   "cell_type": "code",
   "execution_count": 76,
   "metadata": {},
   "outputs": [],
   "source": [
    "#RFM全部分类完毕。把两张表join到一起\n",
    "rfm_bType_pivot = rfm_bType_pivot.reset_index()\n",
    "RFM_CLASS = pd.merge(recency,rfm_bType_pivot, on = 'user_id',how = 'outer')"
   ]
  },
  {
   "cell_type": "code",
   "execution_count": 77,
   "metadata": {},
   "outputs": [
    {
     "data": {
      "text/html": [
       "<div>\n",
       "<style scoped>\n",
       "    .dataframe tbody tr th:only-of-type {\n",
       "        vertical-align: middle;\n",
       "    }\n",
       "\n",
       "    .dataframe tbody tr th {\n",
       "        vertical-align: top;\n",
       "    }\n",
       "\n",
       "    .dataframe thead th {\n",
       "        text-align: right;\n",
       "    }\n",
       "</style>\n",
       "<table border=\"1\" class=\"dataframe\">\n",
       "  <thead>\n",
       "    <tr style=\"text-align: right;\">\n",
       "      <th></th>\n",
       "      <th>user_id</th>\n",
       "      <th>recency_d</th>\n",
       "      <th>r_class</th>\n",
       "      <th>1</th>\n",
       "      <th>2</th>\n",
       "      <th>3</th>\n",
       "      <th>4</th>\n",
       "      <th>f_class</th>\n",
       "      <th>m_class</th>\n",
       "    </tr>\n",
       "  </thead>\n",
       "  <tbody>\n",
       "    <tr>\n",
       "      <th>0</th>\n",
       "      <td>4913</td>\n",
       "      <td>0</td>\n",
       "      <td>1</td>\n",
       "      <td>1658.0</td>\n",
       "      <td>49.0</td>\n",
       "      <td>29.0</td>\n",
       "      <td>6.0</td>\n",
       "      <td>1</td>\n",
       "      <td>2</td>\n",
       "    </tr>\n",
       "    <tr>\n",
       "      <th>1</th>\n",
       "      <td>6118</td>\n",
       "      <td>0</td>\n",
       "      <td>1</td>\n",
       "      <td>112.0</td>\n",
       "      <td>4.0</td>\n",
       "      <td>0.0</td>\n",
       "      <td>1.0</td>\n",
       "      <td>3</td>\n",
       "      <td>3</td>\n",
       "    </tr>\n",
       "    <tr>\n",
       "      <th>2</th>\n",
       "      <td>7528</td>\n",
       "      <td>11</td>\n",
       "      <td>2</td>\n",
       "      <td>183.0</td>\n",
       "      <td>1.0</td>\n",
       "      <td>24.0</td>\n",
       "      <td>6.0</td>\n",
       "      <td>3</td>\n",
       "      <td>2</td>\n",
       "    </tr>\n",
       "    <tr>\n",
       "      <th>3</th>\n",
       "      <td>7591</td>\n",
       "      <td>0</td>\n",
       "      <td>1</td>\n",
       "      <td>824.0</td>\n",
       "      <td>0.0</td>\n",
       "      <td>14.0</td>\n",
       "      <td>21.0</td>\n",
       "      <td>2</td>\n",
       "      <td>1</td>\n",
       "    </tr>\n",
       "    <tr>\n",
       "      <th>4</th>\n",
       "      <td>12645</td>\n",
       "      <td>0</td>\n",
       "      <td>1</td>\n",
       "      <td>248.0</td>\n",
       "      <td>2.0</td>\n",
       "      <td>10.0</td>\n",
       "      <td>8.0</td>\n",
       "      <td>3</td>\n",
       "      <td>2</td>\n",
       "    </tr>\n",
       "  </tbody>\n",
       "</table>\n",
       "</div>"
      ],
      "text/plain": [
       "   user_id  recency_d r_class       1     2     3     4 f_class m_class\n",
       "0     4913          0       1  1658.0  49.0  29.0   6.0       1       2\n",
       "1     6118          0       1   112.0   4.0   0.0   1.0       3       3\n",
       "2     7528         11       2   183.0   1.0  24.0   6.0       3       2\n",
       "3     7591          0       1   824.0   0.0  14.0  21.0       2       1\n",
       "4    12645          0       1   248.0   2.0  10.0   8.0       3       2"
      ]
     },
     "execution_count": 77,
     "metadata": {},
     "output_type": "execute_result"
    }
   ],
   "source": [
    "RFM_CLASS.head()"
   ]
  },
  {
   "cell_type": "code",
   "execution_count": 78,
   "metadata": {},
   "outputs": [],
   "source": [
    "#删掉不需要的列\n",
    "del RFM_CLASS[1]\n",
    "del RFM_CLASS[2]\n",
    "del RFM_CLASS[3]\n",
    "del RFM_CLASS[4]"
   ]
  },
  {
   "cell_type": "code",
   "execution_count": 79,
   "metadata": {},
   "outputs": [
    {
     "data": {
      "text/html": [
       "<div>\n",
       "<style scoped>\n",
       "    .dataframe tbody tr th:only-of-type {\n",
       "        vertical-align: middle;\n",
       "    }\n",
       "\n",
       "    .dataframe tbody tr th {\n",
       "        vertical-align: top;\n",
       "    }\n",
       "\n",
       "    .dataframe thead th {\n",
       "        text-align: right;\n",
       "    }\n",
       "</style>\n",
       "<table border=\"1\" class=\"dataframe\">\n",
       "  <thead>\n",
       "    <tr style=\"text-align: right;\">\n",
       "      <th></th>\n",
       "      <th>user_id</th>\n",
       "      <th>recency_d</th>\n",
       "      <th>r_class</th>\n",
       "      <th>f_class</th>\n",
       "      <th>m_class</th>\n",
       "    </tr>\n",
       "  </thead>\n",
       "  <tbody>\n",
       "    <tr>\n",
       "      <th>0</th>\n",
       "      <td>4913</td>\n",
       "      <td>0</td>\n",
       "      <td>1</td>\n",
       "      <td>1</td>\n",
       "      <td>2</td>\n",
       "    </tr>\n",
       "    <tr>\n",
       "      <th>1</th>\n",
       "      <td>6118</td>\n",
       "      <td>0</td>\n",
       "      <td>1</td>\n",
       "      <td>3</td>\n",
       "      <td>3</td>\n",
       "    </tr>\n",
       "    <tr>\n",
       "      <th>2</th>\n",
       "      <td>7528</td>\n",
       "      <td>11</td>\n",
       "      <td>2</td>\n",
       "      <td>3</td>\n",
       "      <td>2</td>\n",
       "    </tr>\n",
       "    <tr>\n",
       "      <th>3</th>\n",
       "      <td>7591</td>\n",
       "      <td>0</td>\n",
       "      <td>1</td>\n",
       "      <td>2</td>\n",
       "      <td>1</td>\n",
       "    </tr>\n",
       "    <tr>\n",
       "      <th>4</th>\n",
       "      <td>12645</td>\n",
       "      <td>0</td>\n",
       "      <td>1</td>\n",
       "      <td>3</td>\n",
       "      <td>2</td>\n",
       "    </tr>\n",
       "  </tbody>\n",
       "</table>\n",
       "</div>"
      ],
      "text/plain": [
       "   user_id  recency_d r_class f_class m_class\n",
       "0     4913          0       1       1       2\n",
       "1     6118          0       1       3       3\n",
       "2     7528         11       2       3       2\n",
       "3     7591          0       1       2       1\n",
       "4    12645          0       1       3       2"
      ]
     },
     "execution_count": 79,
     "metadata": {},
     "output_type": "execute_result"
    }
   ],
   "source": [
    "RFM_CLASS.head()"
   ]
  },
  {
   "cell_type": "code",
   "execution_count": null,
   "metadata": {},
   "outputs": [],
   "source": [
    "\"\"\"\n",
    "编号; 类别; 说明; 分组\n",
    "1; 重要价值客户; RFM都很大，优质客户，需要保持; 111, 121, 211\n",
    "\n",
    "2; 重要唤回客户; FM大，但最近无交易（R小），需要唤回; 311, 312, 212\n",
    "\n",
    "3; 重要深耕客户; M大F小，最近有交易（R大），需要重点识别; 131, 122, 132, 221, 222, 231, 232\n",
    "\n",
    "4; 重要挽留客户; M大，FR小。需要挽留; 331, 321\n",
    "\n",
    "5; 潜力客户; RF大，交易金额小。需要挖掘; 112, 113, 223, 213\n",
    "\n",
    "6; 新客户; 最近有交易，接触的新客户。; 123, 133\n",
    "\n",
    "7; 一般维持客户; F大，RM小。一般维持。; 313, 322, 323\n",
    "\n",
    "8; 流失客户; RFM都小。相当于流失。; 333, 233, 332\n",
    "\"\"\""
   ]
  },
  {
   "cell_type": "code",
   "execution_count": 80,
   "metadata": {},
   "outputs": [
    {
     "data": {
      "text/html": [
       "<div>\n",
       "<style scoped>\n",
       "    .dataframe tbody tr th:only-of-type {\n",
       "        vertical-align: middle;\n",
       "    }\n",
       "\n",
       "    .dataframe tbody tr th {\n",
       "        vertical-align: top;\n",
       "    }\n",
       "\n",
       "    .dataframe thead th {\n",
       "        text-align: right;\n",
       "    }\n",
       "</style>\n",
       "<table border=\"1\" class=\"dataframe\">\n",
       "  <thead>\n",
       "    <tr style=\"text-align: right;\">\n",
       "      <th></th>\n",
       "      <th>user_id</th>\n",
       "      <th>recency_d</th>\n",
       "      <th>r_class</th>\n",
       "      <th>f_class</th>\n",
       "      <th>m_class</th>\n",
       "      <th>code</th>\n",
       "      <th>class_value</th>\n",
       "    </tr>\n",
       "  </thead>\n",
       "  <tbody>\n",
       "    <tr>\n",
       "      <th>0</th>\n",
       "      <td>4913</td>\n",
       "      <td>0</td>\n",
       "      <td>1</td>\n",
       "      <td>1</td>\n",
       "      <td>2</td>\n",
       "      <td>112</td>\n",
       "      <td>5</td>\n",
       "    </tr>\n",
       "    <tr>\n",
       "      <th>1</th>\n",
       "      <td>6118</td>\n",
       "      <td>0</td>\n",
       "      <td>1</td>\n",
       "      <td>3</td>\n",
       "      <td>3</td>\n",
       "      <td>133</td>\n",
       "      <td>6</td>\n",
       "    </tr>\n",
       "    <tr>\n",
       "      <th>2</th>\n",
       "      <td>7528</td>\n",
       "      <td>11</td>\n",
       "      <td>2</td>\n",
       "      <td>3</td>\n",
       "      <td>2</td>\n",
       "      <td>232</td>\n",
       "      <td>3</td>\n",
       "    </tr>\n",
       "    <tr>\n",
       "      <th>3</th>\n",
       "      <td>7591</td>\n",
       "      <td>0</td>\n",
       "      <td>1</td>\n",
       "      <td>2</td>\n",
       "      <td>1</td>\n",
       "      <td>121</td>\n",
       "      <td>1</td>\n",
       "    </tr>\n",
       "    <tr>\n",
       "      <th>4</th>\n",
       "      <td>12645</td>\n",
       "      <td>0</td>\n",
       "      <td>1</td>\n",
       "      <td>3</td>\n",
       "      <td>2</td>\n",
       "      <td>132</td>\n",
       "      <td>3</td>\n",
       "    </tr>\n",
       "  </tbody>\n",
       "</table>\n",
       "</div>"
      ],
      "text/plain": [
       "   user_id  recency_d r_class f_class m_class code class_value\n",
       "0     4913          0       1       1       2  112           5\n",
       "1     6118          0       1       3       3  133           6\n",
       "2     7528         11       2       3       2  232           3\n",
       "3     7591          0       1       2       1  121           1\n",
       "4    12645          0       1       3       2  132           3"
      ]
     },
     "execution_count": 80,
     "metadata": {},
     "output_type": "execute_result"
    }
   ],
   "source": [
    "#按照RFM定义把用户分为8类\n",
    "\n",
    "\n",
    "RFM_CLASS['code'] = RFM_CLASS['r_class']+RFM_CLASS['f_class']+RFM_CLASS['m_class']\n",
    "conditions = [\n",
    "    (RFM_CLASS['code'] == '111')|(RFM_CLASS['code'] == '121')|(RFM_CLASS['code'] == '211'),\n",
    "    (RFM_CLASS['code'] == '311')|(RFM_CLASS['code'] == '312')|(RFM_CLASS['code'] == '212'),\n",
    "    (RFM_CLASS['code'] == '131')|(RFM_CLASS['code'] == '122')|(RFM_CLASS['code'] == '132')|\n",
    "    (RFM_CLASS['code'] == '221')|(RFM_CLASS['code'] == '222')|(RFM_CLASS['code'] == '231')|\n",
    "    (RFM_CLASS['code'] == '232'),\n",
    "    (RFM_CLASS['code'] == '331')|(RFM_CLASS['code'] == '321'),\n",
    "    (RFM_CLASS['code'] == '112')|(RFM_CLASS['code'] == '113')|(RFM_CLASS['code'] == '223')|\n",
    "    (RFM_CLASS['code'] == '213'),\n",
    "    (RFM_CLASS['code'] == '123')|(RFM_CLASS['code'] == '133'),\n",
    "    (RFM_CLASS['code'] == '313')|(RFM_CLASS['code'] == '322')|(RFM_CLASS['code'] == '323'),\n",
    "    (RFM_CLASS['code'] == '333')|(RFM_CLASS['code'] == '233')|(RFM_CLASS['code'] == '332')\n",
    "]\n",
    "\n",
    "\n",
    "choices = ['1','2','3','4','5','6','7','8']\n",
    "RFM_CLASS['class_value'] = np.select(conditions, choices)\n",
    "RFM_CLASS.head()"
   ]
  },
  {
   "cell_type": "code",
   "execution_count": 81,
   "metadata": {},
   "outputs": [
    {
     "data": {
      "text/html": [
       "<div>\n",
       "<style scoped>\n",
       "    .dataframe tbody tr th:only-of-type {\n",
       "        vertical-align: middle;\n",
       "    }\n",
       "\n",
       "    .dataframe tbody tr th {\n",
       "        vertical-align: top;\n",
       "    }\n",
       "\n",
       "    .dataframe thead th {\n",
       "        text-align: right;\n",
       "    }\n",
       "</style>\n",
       "<table border=\"1\" class=\"dataframe\">\n",
       "  <thead>\n",
       "    <tr style=\"text-align: right;\">\n",
       "      <th></th>\n",
       "      <th>class_value</th>\n",
       "      <th>user_id</th>\n",
       "    </tr>\n",
       "  </thead>\n",
       "  <tbody>\n",
       "    <tr>\n",
       "      <th>0</th>\n",
       "      <td>1</td>\n",
       "      <td>3063</td>\n",
       "    </tr>\n",
       "    <tr>\n",
       "      <th>1</th>\n",
       "      <td>2</td>\n",
       "      <td>52</td>\n",
       "    </tr>\n",
       "    <tr>\n",
       "      <th>2</th>\n",
       "      <td>3</td>\n",
       "      <td>2300</td>\n",
       "    </tr>\n",
       "    <tr>\n",
       "      <th>3</th>\n",
       "      <td>4</td>\n",
       "      <td>10</td>\n",
       "    </tr>\n",
       "    <tr>\n",
       "      <th>4</th>\n",
       "      <td>5</td>\n",
       "      <td>1408</td>\n",
       "    </tr>\n",
       "    <tr>\n",
       "      <th>5</th>\n",
       "      <td>6</td>\n",
       "      <td>2060</td>\n",
       "    </tr>\n",
       "    <tr>\n",
       "      <th>6</th>\n",
       "      <td>7</td>\n",
       "      <td>25</td>\n",
       "    </tr>\n",
       "    <tr>\n",
       "      <th>7</th>\n",
       "      <td>8</td>\n",
       "      <td>1082</td>\n",
       "    </tr>\n",
       "  </tbody>\n",
       "</table>\n",
       "</div>"
      ],
      "text/plain": [
       "  class_value  user_id\n",
       "0           1     3063\n",
       "1           2       52\n",
       "2           3     2300\n",
       "3           4       10\n",
       "4           5     1408\n",
       "5           6     2060\n",
       "6           7       25\n",
       "7           8     1082"
      ]
     },
     "execution_count": 81,
     "metadata": {},
     "output_type": "execute_result"
    }
   ],
   "source": [
    "#看每个组有多少个用户\n",
    "class_value = RFM_CLASS.groupby(['class_value'])['user_id'].count().reset_index()\n",
    "class_value"
   ]
  },
  {
   "cell_type": "code",
   "execution_count": 82,
   "metadata": {},
   "outputs": [
    {
     "data": {
      "image/png": "[encoded data removed]",
      "text/plain": [
       "<Figure size 432x288 with 1 Axes>"
      ]
     },
     "metadata": {},
     "output_type": "display_data"
    }
   ],
   "source": [
    "#用户分层可视化\n",
    "labels = class_value.class_value\n",
    "explode = (0.1,0.1,0.1,0.1,0.1,0.1,0.1,0.1)\n",
    "plt.pie(class_value.user_id,explode=explode,labels=labels,autopct='%1.1f%%',shadow=False,startangle=150)\n",
    "plt.title(\"Customers Segementation\")\n",
    "plt.show()"
   ]
  },
  {
   "cell_type": "code",
   "execution_count": null,
   "metadata": {},
   "outputs": [],
   "source": [
    "\"\"\"\n",
    "占比前三的用户分类分别为：\n",
    "“重要价值客户”（30.6%），\n",
    "“重要深耕客户”（23%），和\n",
    "“新客户”（20.6%）。\n",
    "“流失客户”为1082人。占比10.8%。\n",
    "\"\"\""
   ]
  },
  {
   "cell_type": "markdown",
   "metadata": {},
   "source": [
    "# 3. 总结与建议"
   ]
  },
  {
   "cell_type": "code",
   "execution_count": null,
   "metadata": {},
   "outputs": [],
   "source": [
    "\"\"\"\n",
    "结合AARRR模型，对应用户生命周期中的五个环节对用户行为进行分析\n",
    "\n",
    "1.Acquisition - 用户获取\n",
    "通过访问量分析可得，18点至20点是用户频繁访问的时间段，也是获取更多客户的潜在黄金时间，\n",
    "可以在此时间段自行或与KOL、社交或视频平台等进行合作推广活动，并进行淘宝卖家的推送。\n",
    "\n",
    "2.Activation - 用户激活\n",
    "通过对于用户行为的漏斗模型流失分析可得\n",
    "点击量-加入购物车量的流失率为0.9703  \n",
    "从点击到加入购物车之间有较大的流失的，可能用户通过点击并没有能够挑选到满意的商品，导致了流失\n",
    "可以通过问卷调查，或深入分析用户的购买行为，进一步发现用户可能感兴趣的商品，做到精准推送\n",
    "\n",
    "3. Retention - 留存\n",
    "淘宝用户复购率为0.8717，且用户的复购时间间隔大概在5天以内。整体情况较为良好但仍有改良空间。\n",
    "为更进一步提高用户对于产品的依赖性，可以通过签到小游戏、签到领积分等活动增加用户登录频率和浏览时长\n",
    "可以推广直播卖货和用户的互动，增加亲密指数\n",
    "\n",
    "4. Revenue - 收入\n",
    "整体来看，消费者平均消费次数在2.25到2.5之间波动，每日活跃人群中，具有消费行为的在20%至25%之间\n",
    "可以通过分析找出高价值用户，并进行定制化产品推荐，对于一般用户，也可通过优惠券或折扣等方式促进购买。\n",
    "\n",
    "5. Referral - 传播\n",
    "淘宝可采用一些增长策略，如裂变营销等活动来促进传播，\n",
    "也可以通过拼团、分享有好礼等方式鼓励用户进行分享\n",
    "\"\"\""
   ]
  }
 ],
 "metadata": {
  "kernelspec": {
   "display_name": "Python 3",
   "language": "python",
   "name": "python3"
  },
  "language_info": {
   "codemirror_mode": {
    "name": "ipython",
    "version": 3
   },
   "file_extension": ".py",
   "mimetype": "text/x-python",
   "name": "python",
   "nbconvert_exporter": "python",
   "pygments_lexer": "ipython3",
   "version": "3.6.5"
  }
 },
 "nbformat": 4,
 "nbformat_minor": 2
}
